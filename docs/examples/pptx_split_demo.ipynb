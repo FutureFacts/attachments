{
 "cells": [
  {
   "cell_type": "markdown",
   "id": "c8af4746",
   "metadata": {},
   "source": [
    "# From PowerPoint to AI: A Beginner's Guide 🚀\n",
    "\n",
    "**Welcome!** This tutorial shows you how to extract content from PowerPoint presentations and prepare it for AI analysis.\n",
    "\n",
    "**What you'll learn:**\n",
    "- 📂 Load a PowerPoint file into Python\n",
    "- ✂️ Split it into individual slides  \n",
    "- 📝 Extract text and images from each slide\n",
    "- 🤖 Prepare content for AI tools like ChatGPT or Claude\n",
    "\n",
    "**No prior experience needed!** We'll go step by step."
   ]
  },
  {
   "cell_type": "markdown",
   "id": "3e3b8dfe",
   "metadata": {},
   "source": [
    "## Step 1: Import the Tools 🛠️"
   ]
  },
  {
   "cell_type": "code",
   "execution_count": null,
   "id": "bd58429e",
   "metadata": {},
   "outputs": [],
   "source": [
    "from attachments import attach, load, split, present, refine, adapt\n",
    "from attachments.data import get_sample_path"
   ]
  },
  {
   "cell_type": "markdown",
   "id": "083cf37f",
   "metadata": {},
   "source": [
    "## Step 2: Load a PowerPoint File 📄\n",
    "\n",
    "This is all you need to get started:"
   ]
  },
  {
   "cell_type": "code",
   "execution_count": null,
   "id": "20f3ab69",
   "metadata": {},
   "outputs": [],
   "source": [
    "# Get sample file and load it\n",
    "pptx_file = get_sample_path(\"sample_multipage.pptx\")\n",
    "loaded_pptx = attach(pptx_file) | load.pptx_to_python_pptx + present.markdown + present.images"
   ]
  },
  {
   "cell_type": "markdown",
   "id": "fdef1a5b",
   "metadata": {},
   "source": [
    "## Step 3: Traditional Approach - All Content Together 📝\n",
    "\n",
    "Extract all slides as one big text block:"
   ]
  },
  {
   "cell_type": "code",
   "execution_count": null,
   "id": "e7fa00ea",
   "metadata": {},
   "outputs": [
    {
     "name": "stdout",
     "output_type": "stream",
     "text": [
      "✅ Loaded 6 slides\n",
      "📄 Total text: 1414 characters\n",
      "🖼️ Images: 6\n"
     ]
    }
   ],
   "source": [
    "print(f\"✅ Loaded {len(loaded_pptx._obj.slides)} slides\")\n",
    "print(f\"📄 Total text: {len(loaded_pptx.text)} characters\")\n",
    "print(f\"🖼️ Images: {len(loaded_pptx.images)}\")"
   ]
  },
  {
   "cell_type": "markdown",
   "id": "2cab9f7c",
   "metadata": {},
   "source": [
    "## Step 4: The Split Approach ✨\n",
    "\n",
    "**This is where it gets powerful!** Split into individual slides for granular analysis:"
   ]
  },
  {
   "cell_type": "code",
   "execution_count": null,
   "id": "40028177",
   "metadata": {},
   "outputs": [
    {
     "name": "stdout",
     "output_type": "stream",
     "text": [
      "📑 Split into 6 individual slides\n"
     ]
    }
   ],
   "source": [
    "# Split into individual slides\n",
    "slide_collection = (attach(pptx_file)\n",
    "                    | load.pptx_to_python_pptx\n",
    "                    | split.slides\n",
    "                    | present.markdown + present.images\n",
    "                    )\n",
    "\n",
    "print(f\"📑 Split into {len(slide_collection)} individual slides\")"
   ]
  },
  {
   "cell_type": "markdown",
   "id": "750924fe",
   "metadata": {},
   "source": [
    "## Step 5: Extract Content from Each Slide 📋"
   ]
  },
  {
   "cell_type": "code",
   "execution_count": null,
   "id": "f8b48620",
   "metadata": {},
   "outputs": [
    {
     "name": "stdout",
     "output_type": "stream",
     "text": [
      "\n",
      "📄 Slide 1: 392 chars\n",
      "# Presentation: /home/maxime/Projects/attachments/src/attachments/data/sample_multipage.pptx#slide-1\n",
      "\n",
      "## Slide 1\n",
      "\n",
      "AutoGen: Enabling Next-Gen LLM Applications via Multi-Agent Conversation\n",
      "\n",
      "Qingyun Wu ,...\n",
      "\n",
      "📄 Slide 2: 1043 chars\n",
      "# Presentation: /home/maxime/Projects/attachments/src/attachments/data/sample_multipage.pptx#slide-2\n",
      "\n",
      "## Slide 2\n",
      "\n",
      "2cdda5c8-e50e-4db4-b5f0-9722a649f455\n",
      "\n",
      "AutoGen is an open-source framework that allows ...\n",
      "\n",
      "📄 Slide 3: 163 chars\n",
      "# Presentation: /home/maxime/Projects/attachments/src/attachments/data/sample_multipage.pptx#slide-3\n",
      "\n",
      "## Slide 3\n",
      "\n",
      "A table to test parsing:\n",
      "\n",
      "*Slides processed: 1*\n",
      "\n",
      "...\n",
      "\n",
      "📄 Slide 4: 163 chars\n",
      "# Presentation: /home/maxime/Projects/attachments/src/attachments/data/sample_multipage.pptx#slide-4\n",
      "\n",
      "## Slide 4\n",
      "\n",
      "A chart to test parsing:\n",
      "\n",
      "*Slides processed: 1*\n",
      "\n",
      "...\n",
      "\n",
      "📄 Slide 5: 161 chars\n",
      "# Presentation: /home/maxime/Projects/attachments/src/attachments/data/sample_multipage.pptx#slide-5\n",
      "\n",
      "## Slide 5\n",
      "\n",
      "A Nested Shape parsing\n",
      "\n",
      "*Slides processed: 1*\n",
      "\n",
      "...\n",
      "\n",
      "📄 Slide 6: 175 chars\n",
      "# Presentation: /home/maxime/Projects/attachments/src/attachments/data/sample_multipage.pptx#slide-6\n",
      "\n",
      "## Slide 6\n",
      "\n",
      "These Test Strings are in the Image!\n",
      "\n",
      "*Slides processed: 1*\n",
      "\n",
      "...\n"
     ]
    }
   ],
   "source": [
    "count = 0\n",
    "for slide in slide_collection:\n",
    "    count += 1\n",
    "    print(f\"\\n📄 Slide {count}: {len(slide.text)} chars\")\n",
    "    print(slide.text[:200] + \"...\")"
   ]
  },
  {
   "cell_type": "markdown",
   "id": "7977f652",
   "metadata": {},
   "source": [
    "## Step 6: Turn each slide into a prompt for AI 📋"
   ]
  },
  {
   "cell_type": "code",
   "execution_count": null,
   "id": "589e034c",
   "metadata": {},
   "outputs": [
    {
     "name": "stdout",
     "output_type": "stream",
     "text": [
      "[{'role': 'user', 'content': [{'type': 'text', 'text': 'Analyze this slide\\n\\n# Presentation: /home/maxime/Projects/attachments/src/attachments/data/sample_multipage.pptx#slide-1\\n\\n## Slide 1\\n\\nAutoGen: Enabling Next-Gen LLM Applications via Multi-Agent Conversation\\n\\nQingyun Wu , Gagan Bansal , Jieyu Zhang, Yiran Wu, Beibin Li, Erkang Zhu, Li Jiang, Xiaoyun Zhang, Shaokun Zhang, Jiale Liu, Ahmed Awadallah, Ryen W. White, Doug Burger, Chi Wang\\n\\n\\n*Slides processed: 1*\\n\\n'}]}]\n"
     ]
    }
   ],
   "source": [
    "# Split into individual slides\n",
    "slide_collection = (attach(pptx_file)\n",
    "                    | load.pptx_to_python_pptx\n",
    "                    | split.slides\n",
    "                    | present.markdown + present.images\n",
    "                    )\n",
    "\n",
    "for i in slide_collection:\n",
    "    print(i | adapt.claude(\"Analyze this slide\"))\n",
    "    break"
   ]
  }
 ],
 "metadata": {
  "kernelspec": {
   "display_name": "Python 3",
   "language": "python",
   "name": "python3"
  }
 },
 "nbformat": 4,
 "nbformat_minor": 5
}
