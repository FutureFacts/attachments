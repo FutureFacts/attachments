{
 "cells": [
  {
   "cell_type": "markdown",
   "id": "deb7f847",
   "metadata": {},
   "source": [
    "# Attachment pipelines\n",
    "## Overview\n",
    "Plugins in the Attachments library will be designed explicitly to support intuitive pipeline operations. Plugins will be callable, composable, and behave predictably within pipelines. This document defines how Loaders, Transformers, Renderers, and Deliverers should operate.\n",
    "\n",
    "## Pipeline Syntax\n",
    "\n",
    "The pipeline syntax supports chaining and branching:\n",
    "\n",
    "* Chaining (sequential execution): `|`\n",
    "* Branching (parallel execution): `&`\n",
    "\n",
    "### Example Pipelines"
   ]
  },
  {
   "cell_type": "code",
   "execution_count": null,
   "id": "d63062ad",
   "metadata": {
    "lines_to_next_cell": 0
   },
   "outputs": [],
   "source": [
    "# Single-use pipeline\n",
    "# at its core, a pipeline is a function that takes a path and returns an attachment OR anything else that comes out of the \n",
    "# deliverer, still unsure about the name (suggestions welcome).\n",
    "# The attachments library will make it easy to add functions and would be loaded like this:"
   ]
  },
  {
   "cell_type": "code",
   "execution_count": null,
   "id": "5dcd436e",
   "metadata": {},
   "outputs": [],
   "source": [
    "import attachments.functions.loaders as at_l\n",
    "import attachments.functions.transformers as at_t\n",
    "import attachments.functions.image_renderers as at_ri\n",
    "import attachments.functions.text_renderers as at_rt\n",
    "import attachments.functions.audio_renderers as at_ra\n",
    "import attachments.functions.deliverers as at_d"
   ]
  },
  {
   "cell_type": "markdown",
   "id": "85f6e26e",
   "metadata": {
    "lines_to_next_cell": 0
   },
   "source": [
    "or more simply:"
   ]
  },
  {
   "cell_type": "code",
   "execution_count": null,
   "id": "f255549a",
   "metadata": {},
   "outputs": [],
   "source": [
    "from attachments.shorthand import *"
   ]
  },
  {
   "cell_type": "markdown",
   "id": "bc68d6ce",
   "metadata": {},
   "source": [
    "this has the advantage of letting user use the automatic completion of the IDE to find the available functions.\n",
    "\"/home/maxime/Projects/attachments/examples/sample.pdf\" | \n",
    "    at_l.load_pdf() |\n",
    "    at_t.pages(\":2\") |\n",
    "    (at_rt.pdf() | at_t.summarize_text()) & at_ri.pdf() |\n",
    "    at_t.tile_image() |\n",
    "    at_d.openai()"
   ]
  },
  {
   "cell_type": "markdown",
   "id": "1b5cfc87",
   "metadata": {
    "lines_to_next_cell": 0
   },
   "source": [
    "This is considered the low level usage of the library. It is what we use in the background to create the Attachment and\n",
    "Attachments objects (more on that later)."
   ]
  },
  {
   "cell_type": "markdown",
   "id": "2eb04c5d",
   "metadata": {
    "lines_to_next_cell": 0
   },
   "source": [
    "Save and reuse a pipeline\n",
    "By simply assigning the pipeline to a variable, we can reuse it as a callable. Notice how above we choose to provide the\n",
    "arguments directly in the function calls whereas below we stay general and the user of the `pdf_to_openai` uses the square\n",
    "bracket syntax to pass arguments to the pipeline. The way it works is that loaders always extract the arguments from the path\n",
    "and stores them in the `Attachment` object as commands those will be pick up by any plugins that needs them. The convention\n",
    "still needs to be defined. But that may emerge from the usage as developers and contributors experiment with this."
   ]
  },
  {
   "cell_type": "code",
   "execution_count": null,
   "id": "4885ac6a",
   "metadata": {},
   "outputs": [],
   "source": [
    "pdf_to_openai = at_l.load_pdf() |\n",
    "    at_t.remove_pages() |\n",
    "    (at_rt.pdf() | at_t.summarize_text()) & at_ri.pdf() |\n",
    "    at_t.tile_image(always = False) |\n",
    "    at_d.openai()\n",
    "\n",
    "pdf_to_openai(\"/home/maxime/Projects/attachments/examples/sample.pdf[:2 & -5:, tiling = True]\")"
   ]
  },
  {
   "cell_type": "markdown",
   "id": "6e92f2c4",
   "metadata": {
    "lines_to_next_cell": 0
   },
   "source": [
    "## Pipeline composition\n",
    "Pipelines can be composed by simply chaining them together.\n",
    "As each loader has a match method to check if the path is for itself to process we can see if each pipeline is compatible \n",
    "with the input path if se we use it else we pass it to the next pipeline.\n",
    "Advanced developers can create this however they want but the primary goal is to make the development of Attachments\n",
    "as easy as possible.\n",
    "\n",
    "The attachments library will output 1 Attachments class that will run through one pipeline of pipelines behind the scenes.\n",
    "Attachments will tak a list of paths or several path like below and will run the pipelines of pipelines on each path.\n",
    "It will thus hold a list of Attachment objects. It will provide all the deliverer methods on the list to concatenate them\n",
    "all the lists of attachments. See more in the examples below.\n"
   ]
  },
  {
   "cell_type": "code",
   "execution_count": null,
   "id": "6498ca25",
   "metadata": {},
   "outputs": [],
   "source": [
    "# the end goal is this:\n",
    "\n",
    "\n",
    "\n",
    "pdf_pipeline = (\n",
    "        at_l.load_pdf() | \n",
    "        at_t.pages() | at_t.regex_filter() | at_t.translate()\n",
    "        (at_rt.pdf() | at_t.summarize_text()) & at_ri.pdf() | \n",
    "        at_t.tile_image(always = False)\n",
    "    )\n",
    "\n",
    "pdf_md_pipeline = (\n",
    "        at_l.load_pdf() | \n",
    "        at_t.pages() | at_t.regex_filter() | at_t.translate()\n",
    "        (at_rt.pdf_md() & at_ri.pdf() | \n",
    "        at_t.tile_image(always = False)\n",
    "    )\n",
    "\n",
    "pptx_xml_pipeline = (at_l.load_pptx() | \n",
    "    at_t.pages() | \n",
    "    at_rt.pptx_xml() & at_ri.pptx() | \n",
    "    at_t.tile_image(always = False))\n",
    "\n",
    "pptx_md_pipeline = (at_l.load_pptx() | \n",
    "    at_t.pages() | \n",
    "    at_rt.pptx_md() & at_ri.pptx() | \n",
    "    at_t.tile_image(always = False))\n",
    "\n",
    "\n",
    "#this is mostly a fallback\n",
    "txt_pipeline = at_l.load_txt() | at_rt.txt() \n",
    "\n",
    "\n",
    "attachments = Attachments(pipelines = [pdf_pipeline, pptx_xml_pipeline, pptx_md_pipeline, txt_pipeline])\n",
    "\n",
    "\n",
    "all_my_attachments = attachments(\"md:/home/maxime/Projects/attachments/examples/sample.pdf[:2 & -5:, tiling = True]\",\n",
    "            \"xml:/home/maxime/Projects/attachments/examples/sample.pptx\",\n",
    "            \"/home/maxime/Projects/attachments/examples/sample.txt\")\n",
    "\n",
    "\n",
    "all_my_attachments.to_openai() # or to_openai(all_my_attachments)"
   ]
  },
  {
   "cell_type": "markdown",
   "id": "cb59eb9d",
   "metadata": {
    "lines_to_next_cell": 0
   },
   "source": [
    "for use here:"
   ]
  },
  {
   "cell_type": "code",
   "execution_count": null,
   "id": "5100ddfe",
   "metadata": {},
   "outputs": [],
   "source": [
    "response = client.responses.create(\n",
    "    model=\"gpt-4.1-nano\",\n",
    "    input=[\n",
    "    {\n",
    "        \"role\": \"user\",\n",
    "        \"content\": all_my_attachments.to_openai(\"what do you see in these three files?\") # or at_d.to_openai(all_my_attachments)\n",
    "    }\n",
    "]\n",
    ")\n",
    "response.output[0].content[0].text"
   ]
  },
  {
   "cell_type": "markdown",
   "id": "2eaabf35",
   "metadata": {
    "lines_to_next_cell": 0
   },
   "source": [
    "## Anthropic / Claude"
   ]
  },
  {
   "cell_type": "code",
   "execution_count": null,
   "id": "9fd1d78b",
   "metadata": {
    "lines_to_next_cell": 0
   },
   "outputs": [],
   "source": [
    "import anthropic\n",
    "msg = anthropic.Anthropic().messages.create(\n",
    "    model=\"claude-3-5-haiku-20241022\",\n",
    "    max_tokens=8_192,\n",
    "    messages=all_my_attachments.to_claude(\"Analyse the slides:\") # or at_d.to_claude(all_my_attachments)\n",
    ")\n",
    "print(msg.content)\n",
    "\n",
    "#other specialized attachments objects can be created\n",
    "# this could still be diserable because it concats the txt of all intividual attachments and provides the deliverers\n",
    "attachments_txt_only = Attachments(pipelines = [txt_pipeline])\n",
    "\n",
    "\n",
    "\n",
    "txt_to_openai = at_l.load_txt() | at_rt.txt() | at_d.openai()\n",
    "\n",
    "txt_to_openai(\"/home/maxime/Projects/attachments/examples/sample.txt\")"
   ]
  },
  {
   "cell_type": "code",
   "execution_count": null,
   "id": "e7e2f456",
   "metadata": {},
   "outputs": [],
   "source": [
    "attachment_to_openai = pdf_to_openai | txt_to_openai"
   ]
  },
  {
   "cell_type": "code",
   "execution_count": null,
   "id": "044d3305",
   "metadata": {},
   "outputs": [],
   "source": [
    "\n",
    "openai_content = attachment_to_openai(\"/home/maxime/Projects/attachments/examples/sample.pdf[:2 & -5:, tiling = True]\")\n",
    "openai_content = attachment_to_openai(\"/home/maxime/Projects/attachments/examples/sample.txt\")"
   ]
  },
  {
   "cell_type": "code",
   "execution_count": null,
   "id": "7c856500",
   "metadata": {
    "lines_to_next_cell": 0
   },
   "outputs": [],
   "source": [
    "new_pipeline = pdf_to_openai.pop(reshape_for_openai) | txt_to_openai.pop(reshape_for_openai)\n",
    "myattachmentsoject = new_pipeline(\"/home/maxime/Projects/attachments/examples/sample.pdf[:2 & -5:, tiling = True]\",\n",
    "           \"/home/maxime/Projects/attachments/examples/sample.txt\")\n",
    "\n",
    "myattachmentsoject.to_openai() # or to_openai(my_attachments_oject)\n",
    "myattachmentsoject.to_claude() # or to_claude(my_attachments_oject)"
   ]
  },
  {
   "cell_type": "code",
   "execution_count": null,
   "id": "5f8488a7",
   "metadata": {},
   "outputs": [],
   "source": [
    "# Defined pipeline\n",
    "my_pipeline = myfavpptxloader() | transform_pptx_fromindices() | summarizer_transform() | text_render() & image_render() | curlopenaideliverer()\n",
    "my_pipeline(\"Path/to/pptx\")\n",
    "\n",
    "# Transforms with arguments\n",
    "\"Path/to/pptx\" | myfavpptxloader() | transform_pptx_fromindices(':2','-5:') | text_render() & image_render() | curlopenaideliverer()\n",
    "\n",
    "# File-path transform syntax\n",
    "\"Path/to/pptx[:2,-5:]\" | myfavpptxloader() | transform_pptx_fromindices() | text_render() & image_render() | curlopenaideliverer()"
   ]
  },
  {
   "cell_type": "markdown",
   "id": "6561de1e",
   "metadata": {},
   "source": [
    "## Plugin Behaviors\n",
    "\n",
    "### Loader\n",
    "\n",
    "* **Responsibility**: Convert input paths into an `Attachment` object with `.obj` populated.\n",
    "* **Usage**: Must be callable independently."
   ]
  },
  {
   "cell_type": "code",
   "execution_count": null,
   "id": "37c0c13f",
   "metadata": {
    "lines_to_next_cell": 0
   },
   "outputs": [],
   "source": [
    "att = myfavpptxloader(\"Path/to/pptx[:2,-5:]\")"
   ]
  },
  {
   "cell_type": "markdown",
   "id": "c879eefb",
   "metadata": {},
   "source": [
    "\n",
    "* If transform arguments in the path (e.g., `[indices]`) have no matching transform in the pipeline, loaders should gracefully ignore them.\n",
    "\n",
    "### Transformer\n",
    "\n",
    "* **Responsibility**: Modify `Attachment.obj` or `Attachment.text/images/audio`.\n",
    "* **Usage**: Callable independently and within pipelines.\n",
    "* Transforms can have optional arguments."
   ]
  },
  {
   "cell_type": "code",
   "execution_count": null,
   "id": "9f792ab2",
   "metadata": {
    "lines_to_next_cell": 0
   },
   "outputs": [],
   "source": [
    "att = transform_pptx_fromindices(':2', '-5:', attachment=att)"
   ]
  },
  {
   "cell_type": "markdown",
   "id": "fb9b9b32",
   "metadata": {},
   "source": [
    "\n",
    "* Decorator example:"
   ]
  },
  {
   "cell_type": "code",
   "execution_count": null,
   "id": "ea499f29",
   "metadata": {
    "lines_to_next_cell": 0
   },
   "outputs": [],
   "source": [
    "@Transformer\n",
    "def summarize_and_tile(att):\n",
    "    # Modify .text and .images directly\n",
    "    return att\n",
    "\n",
    "summarize_and_tile(att).to_openai()"
   ]
  },
  {
   "cell_type": "markdown",
   "id": "5529487a",
   "metadata": {},
   "source": [
    "\n",
    "### Renderer\n",
    "\n",
    "* **Responsibility**: Generate final `.text`, `.images`, or `.audio` from `.obj`.\n",
    "* **Behavior**: Multiple renderers can run in parallel (fork), populating different fields of the same `Attachment` object.\n",
    "* Once a renderer runs, the `Attachment` object records it, allowing re-triggering rendering later."
   ]
  },
  {
   "cell_type": "code",
   "execution_count": null,
   "id": "1c46ae28",
   "metadata": {
    "lines_to_next_cell": 0
   },
   "outputs": [],
   "source": [
    "att = text_render(att)\n",
    "att = image_render(att)"
   ]
  },
  {
   "cell_type": "markdown",
   "id": "2fe7fc5c",
   "metadata": {},
   "source": [
    "\n",
    "* Renderer invocation should set the active renderer state on the `Attachment`.\n",
    "\n",
    "### Deliverer\n",
    "\n",
    "* **Responsibility**: Convert the `Attachment` object into the structure required by downstream APIs (e.g., OpenAI).\n",
    "* **Requirement**: Must fail explicitly if no renderer output (e.g., `.text` or `.images`) is present."
   ]
  },
  {
   "cell_type": "code",
   "execution_count": null,
   "id": "84ffbc74",
   "metadata": {
    "lines_to_next_cell": 0
   },
   "outputs": [],
   "source": [
    "res = \"file.csv\" | csv_load | csv_text_renderer | to_openai  # works\n",
    "res = \"file.csv\" | csv_load | to_openai                      # raises error"
   ]
  },
  {
   "cell_type": "markdown",
   "id": "d0c625e8",
   "metadata": {},
   "source": [
    "## Flexible Invocation Patterns\n",
    "\n",
    "* Both object methods and standalone function invocations must be supported:"
   ]
  },
  {
   "cell_type": "code",
   "execution_count": null,
   "id": "48fc2bc8",
   "metadata": {
    "lines_to_next_cell": 0
   },
   "outputs": [],
   "source": [
    "att.to_openai()\n",
    "to_openai(att)"
   ]
  },
  {
   "cell_type": "markdown",
   "id": "237273b0",
   "metadata": {},
   "source": [
    "\n",
    "* Re-triggering renderers upon repeated calls:"
   ]
  },
  {
   "cell_type": "code",
   "execution_count": null,
   "id": "666f3c53",
   "metadata": {
    "lines_to_next_cell": 0
   },
   "outputs": [],
   "source": [
    "att = other_text_renderer(att)\n",
    "mynew_function_summarizing_the_text_and_tiling_image(att).to_openai()  # Uses other_text_renderer"
   ]
  },
  {
   "cell_type": "markdown",
   "id": "5f47128d",
   "metadata": {},
   "source": [
    "\n",
    "## Plugin Definition Flexibility\n",
    "\n",
    "* Any plugin type (Loader, Transformer, Renderer, Deliverer) can be defined from any Python function using a decorator matching the plugin type.\n",
    "* The decorators will validate that the function meets essential plugin requirements."
   ]
  },
  {
   "cell_type": "code",
   "execution_count": null,
   "id": "ab49d62f",
   "metadata": {
    "lines_to_next_cell": 0
   },
   "outputs": [],
   "source": [
    "@loader\n",
    "def csv_load(path):\n",
    "    return pd.read_csv(path)"
   ]
  },
  {
   "cell_type": "markdown",
   "id": "a25638e9",
   "metadata": {},
   "source": [
    "\n",
    "* Enforce pipeline correctness at runtime (e.g., loaders must have subsequent renderers).\n",
    "\n",
    "## Error Handling\n",
    "\n",
    "* Clear and immediate errors when pipeline constraints aren't met, such as a loader without a renderer or a deliverer called without renderer outputs."
   ]
  },
  {
   "cell_type": "markdown",
   "id": "da2bf71a",
   "metadata": {},
   "source": [
    "This specification ensures intuitive, flexible, and robust pipeline interactions within the Attachments library ecosystem."
   ]
  }
 ],
 "metadata": {
  "jupytext": {
   "cell_metadata_filter": "-all",
   "main_language": "python",
   "notebook_metadata_filter": "-all"
  }
 },
 "nbformat": 4,
 "nbformat_minor": 5
}
