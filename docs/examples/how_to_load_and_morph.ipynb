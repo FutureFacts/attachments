{
 "cells": [
  {
   "cell_type": "markdown",
   "id": "720dc6f1",
   "metadata": {
    "lines_to_next_cell": 0
   },
   "source": [
    "# URL Morphing Tutorial\n",
    "\n",
    "This tutorial demonstrates how to use the intelligent URL morphing system to process files from URLs without hardcoded file type detection.\n",
    "\n"
   ]
  },
  {
   "cell_type": "code",
   "execution_count": 1,
   "id": "c85ad9f6",
   "metadata": {},
   "outputs": [],
   "source": [
    "from attachments import attach, load, modify, present"
   ]
  },
  {
   "cell_type": "markdown",
   "id": "b7cc4d8c",
   "metadata": {
    "lines_to_next_cell": 0
   },
   "source": [
    "## What is URL Morphing?\n",
    "\n",
    "URL morphing is a smart system that:\n",
    "1. Downloads content from URLs\n",
    "2. Intelligently detects the file type using multiple strategies\n",
    "3. Transforms the attachment so existing loaders can process it\n",
    "\n",
    "This enables seamless processing of any file type from URLs without maintaining hardcoded lists.\n",
    "\n",
    "## Basic Morphing Pattern\n",
    "\n",
    "The standard pattern is: `url_to_response → morph_to_detected_type → specific_loader`\n"
   ]
  },
  {
   "cell_type": "code",
   "execution_count": 2,
   "id": "542cf60b",
   "metadata": {},
   "outputs": [
    {
     "name": "stderr",
     "output_type": "stream",
     "text": [
      "CropBox missing from /Page, defaulting to MediaBox\n"
     ]
    }
   ],
   "source": [
    "# Download and morph a PDF from URL\n",
    "pdf_attachment = (attach(\"https://github.com/MaximeRivest/attachments/raw/main/src/attachments/data/sample.pdf\") |\n",
    "                 load.url_to_response |           # Step 1: Download content\n",
    "                 modify.morph_to_detected_type |  # Step 2: Detect file type intelligently  \n",
    "                 load.pdf_to_pdfplumber |         # Step 3: Load with appropriate loader\n",
    "                 present.text)                    # Step 4: Extract content"
   ]
  },
  {
   "cell_type": "markdown",
   "id": "35a576a6",
   "metadata": {
    "lines_to_next_cell": 0
   },
   "source": [
    "Let's see what we got:"
   ]
  },
  {
   "cell_type": "code",
   "execution_count": 3,
   "id": "59d2d1aa",
   "metadata": {},
   "outputs": [
    {
     "data": {
      "text/plain": [
       "458"
      ]
     },
     "execution_count": 3,
     "metadata": {},
     "output_type": "execute_result"
    }
   ],
   "source": [
    "len(pdf_attachment.text)"
   ]
  },
  {
   "cell_type": "markdown",
   "id": "52c8b7e4",
   "metadata": {
    "lines_to_next_cell": 0
   },
   "source": [
    "Here's the extracted PDF content:"
   ]
  },
  {
   "cell_type": "code",
   "execution_count": 5,
   "id": "98385de5",
   "metadata": {},
   "outputs": [
    {
     "name": "stdout",
     "output_type": "stream",
     "text": [
      "PDF Document: sample.pdf\n",
      "========================\n",
      "\n",
      "[Page 1]\n",
      "Hello PDF!\n",
      "\n",
      "\n",
      "DOCUMENT ANALYSIS: This appears to be a scanned PDF with little to no extractable text.\n",
      "\n",
      "- Pages processed: 1\n",
      "- Pages with text\n"
     ]
    }
   ],
   "source": [
    "print(pdf_attachment.text[:200])"
   ]
  },
  {
   "cell_type": "markdown",
   "id": "4b8be77c",
   "metadata": {
    "lines_to_next_cell": 0
   },
   "source": [
    "Perfect! The PDF was properly detected and loaded. Let's examine how the detection worked:"
   ]
  },
  {
   "cell_type": "code",
   "execution_count": 6,
   "id": "38db6188",
   "metadata": {},
   "outputs": [
    {
     "data": {
      "text/plain": [
       "'sample.pdf'"
      ]
     },
     "execution_count": 6,
     "metadata": {},
     "output_type": "execute_result"
    }
   ],
   "source": [
    "pdf_attachment.path"
   ]
  },
  {
   "cell_type": "markdown",
   "id": "1574454f",
   "metadata": {
    "lines_to_next_cell": 0
   },
   "source": [
    "The original URL was transformed to a clean filename. Let's see the detection metadata:"
   ]
  },
  {
   "cell_type": "code",
   "execution_count": 7,
   "id": "8ffd0e20",
   "metadata": {},
   "outputs": [
    {
     "data": {
      "text/plain": [
       "{'detected_extension': '.pdf',\n",
       " 'detection_method': 'enhanced_matcher_based',\n",
       " 'content_type': 'application/octet-stream'}"
      ]
     },
     "execution_count": 7,
     "metadata": {},
     "output_type": "execute_result"
    }
   ],
   "source": [
    "{\n",
    "    'detected_extension': pdf_attachment.metadata.get('detected_extension'),\n",
    "    'detection_method': pdf_attachment.metadata.get('detection_method'),\n",
    "    'content_type': pdf_attachment.metadata.get('response_content_type')\n",
    "}"
   ]
  },
  {
   "cell_type": "markdown",
   "id": "5ebb0ca8",
   "metadata": {
    "lines_to_next_cell": 0
   },
   "source": [
    "## How Detection Works\n",
    "\n",
    "The morphing system uses three strategies to detect file types:\n",
    "1. **File extension** from the URL path\n",
    "2. **Content-Type header** from the HTTP response\n",
    "3. **Magic number signatures** from the file content\n",
    "\n",
    "This triple-check approach ensures reliable detection even when URLs don't have clear extensions.\n",
    "\n",
    "## Working with Different File Types\n",
    "\n",
    "Let's try morphing with different file formats:\n"
   ]
  },
  {
   "cell_type": "code",
   "execution_count": 8,
   "id": "7c7556d9",
   "metadata": {},
   "outputs": [],
   "source": [
    "# PowerPoint presentation\n",
    "pptx_result = (attach(\"https://github.com/MaximeRivest/attachments/raw/main/src/attachments/data/sample_multipage.pptx\") |\n",
    "               load.url_to_response |\n",
    "               modify.morph_to_detected_type |\n",
    "               load.pptx_to_python_pptx |\n",
    "               present.text)"
   ]
  },
  {
   "cell_type": "markdown",
   "id": "50ed5aa5",
   "metadata": {
    "lines_to_next_cell": 0
   },
   "source": [
    "PowerPoint content length:"
   ]
  },
  {
   "cell_type": "code",
   "execution_count": 9,
   "id": "5af6de3d",
   "metadata": {},
   "outputs": [
    {
     "data": {
      "text/plain": [
       "1427"
      ]
     },
     "execution_count": 9,
     "metadata": {},
     "output_type": "execute_result"
    }
   ],
   "source": [
    "len(pptx_result.text)"
   ]
  },
  {
   "cell_type": "markdown",
   "id": "8b18b576",
   "metadata": {
    "lines_to_next_cell": 0
   },
   "source": [
    "Detected file type:"
   ]
  },
  {
   "cell_type": "code",
   "execution_count": 10,
   "id": "c9672e3d",
   "metadata": {},
   "outputs": [
    {
     "data": {
      "text/plain": [
       "'sample_multipage.pptx'"
      ]
     },
     "execution_count": 10,
     "metadata": {},
     "output_type": "execute_result"
    }
   ],
   "source": [
    "pptx_result.path"
   ]
  },
  {
   "cell_type": "code",
   "execution_count": 11,
   "id": "c7e287e7",
   "metadata": {},
   "outputs": [],
   "source": [
    "# Markdown file\n",
    "md_result = (attach(\"https://raw.githubusercontent.com/MaximeRivest/attachments/main/README.md\") |\n",
    "             load.url_to_response |\n",
    "             modify.morph_to_detected_type |\n",
    "             load.text_to_string |\n",
    "             present.text)"
   ]
  },
  {
   "cell_type": "markdown",
   "id": "9ad5cf8d",
   "metadata": {
    "lines_to_next_cell": 0
   },
   "source": [
    "Markdown content length:"
   ]
  },
  {
   "cell_type": "code",
   "execution_count": 12,
   "id": "8162a17a",
   "metadata": {},
   "outputs": [
    {
     "data": {
      "text/plain": [
       "29883"
      ]
     },
     "execution_count": 12,
     "metadata": {},
     "output_type": "execute_result"
    }
   ],
   "source": [
    "len(md_result.text)"
   ]
  },
  {
   "cell_type": "markdown",
   "id": "f15a5e1b",
   "metadata": {
    "lines_to_next_cell": 0
   },
   "source": [
    "Detected file type:"
   ]
  },
  {
   "cell_type": "code",
   "execution_count": 13,
   "id": "356cb12d",
   "metadata": {},
   "outputs": [
    {
     "data": {
      "text/plain": [
       "'README.md'"
      ]
     },
     "execution_count": 13,
     "metadata": {},
     "output_type": "execute_result"
    }
   ],
   "source": [
    "md_result.path"
   ]
  },
  {
   "cell_type": "markdown",
   "id": "d6d0dd12",
   "metadata": {
    "lines_to_next_cell": 0
   },
   "source": [
    "## Why Morphing is Essential\n",
    "\n",
    "Without morphing, URL processing fails because loaders use file extensions to determine if they should handle a file. URLs don't match these patterns.\n",
    "\n",
    "Let's see what happens without morphing:"
   ]
  },
  {
   "cell_type": "code",
   "execution_count": 14,
   "id": "43d943e6",
   "metadata": {},
   "outputs": [],
   "source": [
    "# This will fail - PDF loader won't recognize the URL\n",
    "failed_attempt = (attach(\"https://github.com/MaximeRivest/attachments/raw/main/src/attachments/data/sample.pdf\") |\n",
    "                 load.url_to_response |           # Downloads content\n",
    "                 load.pdf_to_pdfplumber |         # But matcher fails - path is still a URL!\n",
    "                 present.text)"
   ]
  },
  {
   "cell_type": "markdown",
   "id": "da4838ad",
   "metadata": {
    "lines_to_next_cell": 0
   },
   "source": [
    "Without morphing, the content isn't processed correctly:"
   ]
  },
  {
   "cell_type": "code",
   "execution_count": 15,
   "id": "f6262a5d",
   "metadata": {},
   "outputs": [
    {
     "data": {
      "text/plain": [
       "104"
      ]
     },
     "execution_count": 15,
     "metadata": {},
     "output_type": "execute_result"
    }
   ],
   "source": [
    "len(failed_attempt.text)"
   ]
  },
  {
   "cell_type": "markdown",
   "id": "2f81f261",
   "metadata": {
    "lines_to_next_cell": 0
   },
   "source": [
    "The result is just the response object representation:"
   ]
  },
  {
   "cell_type": "code",
   "execution_count": 16,
   "id": "602b08b0",
   "metadata": {},
   "outputs": [
    {
     "data": {
      "text/plain": [
       "'https://github.com/MaximeRivest/attachments/raw/main/src/attachments/data/sample.pdf: <Response [200]>\\n\\n'"
      ]
     },
     "execution_count": 16,
     "metadata": {},
     "output_type": "execute_result"
    }
   ],
   "source": [
    "failed_attempt.text"
   ]
  },
  {
   "cell_type": "markdown",
   "id": "8ffacad8",
   "metadata": {
    "lines_to_next_cell": 0
   },
   "source": [
    "## Automatic Morphing in Pipelines\n",
    "\n",
    "The universal pipeline automatically includes morphing for URLs, so you often don't need to specify it manually:"
   ]
  },
  {
   "cell_type": "code",
   "execution_count": 17,
   "id": "0452bd9f",
   "metadata": {},
   "outputs": [
    {
     "name": "stderr",
     "output_type": "stream",
     "text": [
      "CropBox missing from /Page, defaulting to MediaBox\n"
     ]
    }
   ],
   "source": [
    "from attachments import Attachments\n",
    "\n",
    "# This automatically uses morphing\n",
    "auto_result = Attachments(\"https://github.com/MaximeRivest/attachments/raw/main/src/attachments/data/sample.pdf\")\n",
    "auto_text = str(auto_result)"
   ]
  },
  {
   "cell_type": "markdown",
   "id": "53823d8e",
   "metadata": {
    "lines_to_next_cell": 0
   },
   "source": [
    "Automatic processing result length:"
   ]
  },
  {
   "cell_type": "code",
   "execution_count": 18,
   "id": "089a6844",
   "metadata": {},
   "outputs": [
    {
     "data": {
      "text/plain": [
       "798"
      ]
     },
     "execution_count": 18,
     "metadata": {},
     "output_type": "execute_result"
    }
   ],
   "source": [
    "len(auto_text)"
   ]
  },
  {
   "cell_type": "markdown",
   "id": "5fe6a904",
   "metadata": {
    "lines_to_next_cell": 0
   },
   "source": [
    "First part of the automatically processed content:"
   ]
  },
  {
   "cell_type": "code",
   "execution_count": 20,
   "id": "dda57148",
   "metadata": {},
   "outputs": [
    {
     "name": "stdout",
     "output_type": "stream",
     "text": [
      "# PDF Document: /tmp/tmphnl64qqm.pdf\n",
      "\n",
      "## Page 1\n",
      "\n",
      "Hello PDF!\n",
      "\n",
      "\n",
      "📄 **Document Analysis**: This appears to be a scanned PDF with little to no extractable text.\n",
      "\n",
      "- **Pages processed**: 1\n",
      "- **Pages with tex\n"
     ]
    }
   ],
   "source": [
    "print(auto_text[:200])"
   ]
  },
  {
   "cell_type": "markdown",
   "id": "bd54611f",
   "metadata": {
    "lines_to_next_cell": 0
   },
   "source": [
    "## Advanced: Understanding the Detection Process\n",
    "\n",
    "Let's trace through how morphing detects a PDF file:"
   ]
  },
  {
   "cell_type": "code",
   "execution_count": 21,
   "id": "c66fc8d7",
   "metadata": {},
   "outputs": [
    {
     "name": "stdout",
     "output_type": "stream",
     "text": [
      "After download:\n",
      "  Path: https://github.com/MaximeRivest/attachments/raw/main/src/attachments/data/sample.pdf\n",
      "  Content-Type: application/octet-stream\n",
      "  Object type: <class 'requests.models.Response'>\n",
      "\n",
      "After morphing:\n",
      "  Path: sample.pdf\n",
      "  Detected extension: .pdf\n",
      "  Detection method: enhanced_matcher_based\n"
     ]
    }
   ],
   "source": [
    "# Create an attachment with PDF URL\n",
    "pdf_url = attach(\"https://github.com/MaximeRivest/attachments/raw/main/src/attachments/data/sample.pdf\")\n",
    "\n",
    "# Step 1: Download\n",
    "downloaded = pdf_url | load.url_to_response\n",
    "print(\"After download:\")\n",
    "print(f\"  Path: {downloaded.path}\")\n",
    "print(f\"  Content-Type: {downloaded.metadata.get('content_type')}\")\n",
    "print(f\"  Object type: {type(downloaded._obj)}\")\n",
    "\n",
    "# Step 2: Morph  \n",
    "morphed = downloaded | modify.morph_to_detected_type\n",
    "print(\"\\nAfter morphing:\")\n",
    "print(f\"  Path: {morphed.path}\")\n",
    "print(f\"  Detected extension: {morphed.metadata.get('detected_extension')}\")\n",
    "print(f\"  Detection method: {morphed.metadata.get('detection_method')}\")"
   ]
  },
  {
   "cell_type": "markdown",
   "id": "7d2a1746",
   "metadata": {},
   "source": [
    "## Best Practices\n",
    "\n",
    "### 1. Use the Standard Pattern\n",
    "For manual pipelines with URLs, always use: `url_to_response → morph_to_detected_type`\n",
    "\n",
    "### 2. Let Enhanced Matchers Do Their Work\n",
    "The system automatically checks file extensions, Content-Type headers, and magic numbers. No need for manual detection.\n",
    "\n",
    "### 3. Trust the Detection\n",
    "The morphing system is designed to be robust. It will fall back gracefully if detection is uncertain.\n",
    "\n",
    "### 4. For Simple Cases, Use Automatic Processing\n",
    "`Attachments()` or the universal pipeline handle morphing automatically.\n",
    "\n",
    "## Summary\n",
    "\n",
    "URL morphing enables seamless processing of any file type from URLs by:\n",
    "- Downloading content intelligently\n",
    "- Detecting file types using multiple strategies  \n",
    "- Transforming attachments so existing loaders can process them\n",
    "- Maintaining zero hardcoded file type lists\n",
    "\n",
    "This creates an extensible system where adding new file types automatically enables URL support!\n"
   ]
  }
 ],
 "metadata": {
  "jupytext": {
   "cell_metadata_filter": "-all",
   "main_language": "python",
   "notebook_metadata_filter": "-all"
  },
  "kernelspec": {
   "display_name": ".venv",
   "language": "python",
   "name": "python3"
  },
  "language_info": {
   "codemirror_mode": {
    "name": "ipython",
    "version": 3
   },
   "file_extension": ".py",
   "mimetype": "text/x-python",
   "name": "python",
   "nbconvert_exporter": "python",
   "pygments_lexer": "ipython3",
   "version": "3.11.11"
  }
 },
 "nbformat": 4,
 "nbformat_minor": 5
}
