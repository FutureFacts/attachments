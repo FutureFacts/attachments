{
 "cells": [
  {
   "cell_type": "markdown",
   "id": "220d6185",
   "metadata": {
    "vscode": {
     "languageId": "raw"
    }
   },
   "source": [
    "# How to Use `attachments` to Split Your Documents Easily\n",
    "\n",
    "In this notebook, we will explore how to use the `attachments` library to automatically split your documents into smaller chunks. The `attachments` library is a powerful tool to process any file type and make it ready for Large Language Models (LLMs). We will cover how to use the splitting functionality through both the simple API and the more advanced pipeline system.\n"
   ]
  },
  {
   "cell_type": "code",
   "execution_count": 1,
   "id": "55393999",
   "metadata": {
    "lines_to_next_cell": 0
   },
   "outputs": [],
   "source": [
    "from attachments import Attachments, attach, processors\n",
    "from attachments.data import get_sample_path"
   ]
  },
  {
   "cell_type": "code",
   "execution_count": 2,
   "id": "1d74017e",
   "metadata": {
    "lines_to_next_cell": 0
   },
   "outputs": [
    {
     "data": {
      "text/plain": [
       "Attachment(path='https://en.wikipedia.org/wiki/Artificial_intelligence', text=0 chars, images=[1 imgs: data:image/png;base64,iVBORw0K...lFTkSuQmCC], pipeline=[])"
      ]
     },
     "execution_count": 2,
     "metadata": {},
     "output_type": "execute_result"
    }
   ],
   "source": [
    "from attachments import load, present, refine, modify, split\n",
    "res = (attach(\"https://en.wikipedia.org/wiki/Artificial_intelligence[select: p]\") \n",
    "       | load.url_to_bs4\n",
    "       | modify.select\n",
    "       | present.images\n",
    ")\n",
    "res"
   ]
  },
  {
   "cell_type": "code",
   "execution_count": 3,
   "id": "c60ce4aa",
   "metadata": {
    "lines_to_next_cell": 0
   },
   "outputs": [
    {
     "data": {
      "text/plain": [
       "'data:image/png;base64,iVBORw0KGgoAAAANSUhEUgAABQAAAQNpCAIAAAAXBwOWAAAAAXNSR0IArs4c6QAAIABJREFUeJzs3W'"
      ]
     },
     "execution_count": 3,
     "metadata": {},
     "output_type": "execute_result"
    }
   ],
   "source": [
    "res.images[0][:100]"
   ]
  },
  {
   "cell_type": "code",
   "execution_count": null,
   "id": "ee3abc40",
   "metadata": {},
   "outputs": [],
   "source": [
    "from IPython.display import HTML\n",
    "HTML(f\"<img src='{res.images[0]}' alt='Image' />\")\n",
    "\n"
   ]
  },
  {
   "cell_type": "code",
   "execution_count": 3,
   "id": "d6bde7fe",
   "metadata": {
    "lines_to_next_cell": 0
   },
   "outputs": [],
   "source": [
    "from attachments import load, present, modify, split\n",
    "res = (attach(\"https://en.wikipedia.org/wiki/Artificial_intelligence[select: p]\") \n",
    "       | load.url_to_bs4\n",
    "       | modify.select\n",
    "       | present.markdown\n",
    "       | split.paragraphs\n",
    ")"
   ]
  },
  {
   "cell_type": "code",
   "execution_count": null,
   "id": "f4a11f8d",
   "metadata": {
    "lines_to_next_cell": 0
   },
   "outputs": [],
   "source": [
    "len(res)"
   ]
  },
  {
   "cell_type": "code",
   "execution_count": null,
   "id": "cf368e26",
   "metadata": {},
   "outputs": [],
   "source": [
    "len(res[0].text)"
   ]
  },
  {
   "cell_type": "code",
   "execution_count": null,
   "id": "938fa027",
   "metadata": {},
   "outputs": [],
   "source": [
    "res.images\n",
    "\n"
   ]
  },
  {
   "cell_type": "code",
   "execution_count": 6,
   "id": "d8ea3a65",
   "metadata": {},
   "outputs": [
    {
     "data": {
      "text/plain": [
       "'0.12.0'"
      ]
     },
     "execution_count": 6,
     "metadata": {},
     "output_type": "execute_result"
    }
   ],
   "source": [
    "from attachments import __version__\n",
    "__version__"
   ]
  },
  {
   "cell_type": "code",
   "execution_count": 2,
   "id": "0dd77b9c",
   "metadata": {
    "lines_to_next_cell": 2
   },
   "outputs": [
    {
     "name": "stderr",
     "output_type": "stream",
     "text": [
      "[Attachments] Parsed commands for 'https://en.wikipedia.org/wiki/Artificial_intelligence[bad: dsl][images: false][select: p][split: sentences]': {'bad': 'dsl', 'images': 'false', 'select': 'p', 'split': 'sentences'}\n",
      "[Attachments] Accessing command: 'split' = 'sentences'\n",
      "[Attachments] Running primary processor 'webpage_to_llm' for https://en.wikipedia.org/wiki/Artificial_intelligence\n",
      "[Attachments]   Accessing command: 'images' = 'false'\n",
      "[Attachments]   Applying step 'load.url_to_bs4' to https://en.wikipedia.org/wiki/Artificial_intelligence\n",
      "[Attachments]   Applying step 'modify.select' to https://en.wikipedia.org/wiki/Artificial_intelligence\n",
      "[Attachments]     Accessing command: 'select' = 'p'\n",
      "[Attachments]   Running AdditivePipeline(present.markdown + present.metadata)\n",
      "[Attachments]     Applying additive step 'present.markdown' to https://en.wikipedia.org/wiki/Artificial_intelligence\n",
      "[Attachments]     Applying additive step 'present.metadata' to https://en.wikipedia.org/wiki/Artificial_intelligence\n",
      "[Attachments]   Applying step 'refine.add_headers' to https://en.wikipedia.org/wiki/Artificial_intelligence\n",
      "[Attachments] Unused commands for 'https://en.wikipedia.org/wiki/Artificial_intelligence' (split into 261 chunks): ['bad']\n"
     ]
    },
    {
     "data": {
      "text/plain": [
       "Attachments([org/wiki/artificial_intelligence#sentence-1(269chars, 0imgs), org/wiki/artificial_intelligence#sentence-2(634chars, 0imgs), org/wiki/artificial_intelligence#sentence-3(352chars, 0imgs), org/wiki/artificial_intelligence#sentence-4(1331chars, 0imgs), org/wiki/artificial_intelligence#sentence-5(313chars, 0imgs), org/wiki/artificial_intelligence#sentence-6(93chars, 0imgs), org/wiki/artificial_intelligence#sentence-7(107chars, 0imgs), org/wiki/artificial_intelligence#sentence-8(685chars, 0imgs), org/wiki/artificial_intelligence#sentence-9(126chars, 0imgs), org/wiki/artificial_intelligence#sentence-10(149chars, 0imgs), org/wiki/artificial_intelligence#sentence-11(352chars, 0imgs), org/wiki/artificial_intelligence#sentence-12(570chars, 0imgs), org/wiki/artificial_intelligence#sentence-13(526chars, 0imgs), org/wiki/artificial_intelligence#sentence-14(295chars, 0imgs), org/wiki/artificial_intelligence#sentence-15(127chars, 0imgs), org/wiki/artificial_intelligence#sentence-16(174chars, 0imgs), org/wiki/artificial_intelligence#sentence-17(398chars, 0imgs), org/wiki/artificial_intelligence#sentence-18(238chars, 0imgs), org/wiki/artificial_intelligence#sentence-19(421chars, 0imgs), org/wiki/artificial_intelligence#sentence-20(236chars, 0imgs), org/wiki/artificial_intelligence#sentence-21(55chars, 0imgs), org/wiki/artificial_intelligence#sentence-22(452chars, 0imgs), org/wiki/artificial_intelligence#sentence-23(517chars, 0imgs), org/wiki/artificial_intelligence#sentence-24(618chars, 0imgs), org/wiki/artificial_intelligence#sentence-25(391chars, 0imgs), org/wiki/artificial_intelligence#sentence-26(203chars, 0imgs), org/wiki/artificial_intelligence#sentence-27(672chars, 0imgs), org/wiki/artificial_intelligence#sentence-28(608chars, 0imgs), org/wiki/artificial_intelligence#sentence-29(756chars, 0imgs), org/wiki/artificial_intelligence#sentence-30(429chars, 0imgs), org/wiki/artificial_intelligence#sentence-31(241chars, 0imgs), org/wiki/artificial_intelligence#sentence-32(175chars, 0imgs), org/wiki/artificial_intelligence#sentence-33(216chars, 0imgs), org/wiki/artificial_intelligence#sentence-34(114chars, 0imgs), org/wiki/artificial_intelligence#sentence-35(296chars, 0imgs), org/wiki/artificial_intelligence#sentence-36(899chars, 0imgs), org/wiki/artificial_intelligence#sentence-37(205chars, 0imgs), org/wiki/artificial_intelligence#sentence-38(494chars, 0imgs), org/wiki/artificial_intelligence#sentence-39(135chars, 0imgs), org/wiki/artificial_intelligence#sentence-40(158chars, 0imgs), org/wiki/artificial_intelligence#sentence-41(287chars, 0imgs), org/wiki/artificial_intelligence#sentence-42(157chars, 0imgs), org/wiki/artificial_intelligence#sentence-43(1150chars, 0imgs), org/wiki/artificial_intelligence#sentence-44(86chars, 0imgs), org/wiki/artificial_intelligence#sentence-45(73chars, 0imgs), org/wiki/artificial_intelligence#sentence-46(86chars, 0imgs), org/wiki/artificial_intelligence#sentence-47(77chars, 0imgs), org/wiki/artificial_intelligence#sentence-48(772chars, 0imgs), org/wiki/artificial_intelligence#sentence-49(96chars, 0imgs), org/wiki/artificial_intelligence#sentence-50(67chars, 0imgs), org/wiki/artificial_intelligence#sentence-51(123chars, 0imgs), org/wiki/artificial_intelligence#sentence-52(234chars, 0imgs), org/wiki/artificial_intelligence#sentence-53(179chars, 0imgs), org/wiki/artificial_intelligence#sentence-54(262chars, 0imgs), org/wiki/artificial_intelligence#sentence-55(188chars, 0imgs), org/wiki/artificial_intelligence#sentence-56(345chars, 0imgs), org/wiki/artificial_intelligence#sentence-57(86chars, 0imgs), org/wiki/artificial_intelligence#sentence-58(409chars, 0imgs), org/wiki/artificial_intelligence#sentence-59(765chars, 0imgs), org/wiki/artificial_intelligence#sentence-60(93chars, 0imgs), org/wiki/artificial_intelligence#sentence-61(109chars, 0imgs), org/wiki/artificial_intelligence#sentence-62(154chars, 0imgs), org/wiki/artificial_intelligence#sentence-63(173chars, 0imgs), org/wiki/artificial_intelligence#sentence-64(77chars, 0imgs), org/wiki/artificial_intelligence#sentence-65(1152chars, 0imgs), org/wiki/artificial_intelligence#sentence-66(142chars, 0imgs), org/wiki/artificial_intelligence#sentence-67(641chars, 0imgs), org/wiki/artificial_intelligence#sentence-68(72chars, 0imgs), org/wiki/artificial_intelligence#sentence-69(384chars, 0imgs), org/wiki/artificial_intelligence#sentence-70(344chars, 0imgs), org/wiki/artificial_intelligence#sentence-71(407chars, 0imgs), org/wiki/artificial_intelligence#sentence-72(148chars, 0imgs), org/wiki/artificial_intelligence#sentence-73(387chars, 0imgs), org/wiki/artificial_intelligence#sentence-74(103chars, 0imgs), org/wiki/artificial_intelligence#sentence-75(256chars, 0imgs), org/wiki/artificial_intelligence#sentence-76(1073chars, 0imgs), org/wiki/artificial_intelligence#sentence-77(106chars, 0imgs), org/wiki/artificial_intelligence#sentence-78(1582chars, 0imgs), org/wiki/artificial_intelligence#sentence-79(231chars, 0imgs), org/wiki/artificial_intelligence#sentence-80(410chars, 0imgs), org/wiki/artificial_intelligence#sentence-81(1502chars, 0imgs), org/wiki/artificial_intelligence#sentence-82(128chars, 0imgs), org/wiki/artificial_intelligence#sentence-83(568chars, 0imgs), org/wiki/artificial_intelligence#sentence-84(72chars, 0imgs), org/wiki/artificial_intelligence#sentence-85(150chars, 0imgs), org/wiki/artificial_intelligence#sentence-86(122chars, 0imgs), org/wiki/artificial_intelligence#sentence-87(128chars, 0imgs), org/wiki/artificial_intelligence#sentence-88(106chars, 0imgs), org/wiki/artificial_intelligence#sentence-89(131chars, 0imgs), org/wiki/artificial_intelligence#sentence-90(840chars, 0imgs), org/wiki/artificial_intelligence#sentence-91(287chars, 0imgs), org/wiki/artificial_intelligence#sentence-92(66chars, 0imgs), org/wiki/artificial_intelligence#sentence-93(157chars, 0imgs), org/wiki/artificial_intelligence#sentence-94(232chars, 0imgs), org/wiki/artificial_intelligence#sentence-95(54chars, 0imgs), org/wiki/artificial_intelligence#sentence-96(257chars, 0imgs), org/wiki/artificial_intelligence#sentence-97(419chars, 0imgs), org/wiki/artificial_intelligence#sentence-98(231chars, 0imgs), org/wiki/artificial_intelligence#sentence-99(862chars, 0imgs), org/wiki/artificial_intelligence#sentence-100(103chars, 0imgs), org/wiki/artificial_intelligence#sentence-101(209chars, 0imgs), org/wiki/artificial_intelligence#sentence-102(259chars, 0imgs), org/wiki/artificial_intelligence#sentence-103(842chars, 0imgs), org/wiki/artificial_intelligence#sentence-104(318chars, 0imgs), org/wiki/artificial_intelligence#sentence-105(1334chars, 0imgs), org/wiki/artificial_intelligence#sentence-106(334chars, 0imgs), org/wiki/artificial_intelligence#sentence-107(192chars, 0imgs), org/wiki/artificial_intelligence#sentence-108(113chars, 0imgs), org/wiki/artificial_intelligence#sentence-109(86chars, 0imgs), org/wiki/artificial_intelligence#sentence-110(96chars, 0imgs), org/wiki/artificial_intelligence#sentence-111(124chars, 0imgs), org/wiki/artificial_intelligence#sentence-112(647chars, 0imgs), org/wiki/artificial_intelligence#sentence-113(271chars, 0imgs), org/wiki/artificial_intelligence#sentence-114(410chars, 0imgs), org/wiki/artificial_intelligence#sentence-115(250chars, 0imgs), org/wiki/artificial_intelligence#sentence-116(165chars, 0imgs), org/wiki/artificial_intelligence#sentence-117(313chars, 0imgs), org/wiki/artificial_intelligence#sentence-118(70chars, 0imgs), org/wiki/artificial_intelligence#sentence-119(1297chars, 0imgs), org/wiki/artificial_intelligence#sentence-120(297chars, 0imgs), org/wiki/artificial_intelligence#sentence-121(102chars, 0imgs), org/wiki/artificial_intelligence#sentence-122(49chars, 0imgs), org/wiki/artificial_intelligence#sentence-123(291chars, 0imgs), org/wiki/artificial_intelligence#sentence-124(120chars, 0imgs), org/wiki/artificial_intelligence#sentence-125(167chars, 0imgs), org/wiki/artificial_intelligence#sentence-126(413chars, 0imgs), org/wiki/artificial_intelligence#sentence-127(13chars, 0imgs), org/wiki/artificial_intelligence#sentence-128(1319chars, 0imgs), org/wiki/artificial_intelligence#sentence-129(146chars, 0imgs), org/wiki/artificial_intelligence#sentence-130(227chars, 0imgs), org/wiki/artificial_intelligence#sentence-131(212chars, 0imgs), org/wiki/artificial_intelligence#sentence-132(68chars, 0imgs), org/wiki/artificial_intelligence#sentence-133(156chars, 0imgs), org/wiki/artificial_intelligence#sentence-134(652chars, 0imgs), org/wiki/artificial_intelligence#sentence-135(495chars, 0imgs), org/wiki/artificial_intelligence#sentence-136(172chars, 0imgs), org/wiki/artificial_intelligence#sentence-137(264chars, 0imgs), org/wiki/artificial_intelligence#sentence-138(285chars, 0imgs), org/wiki/artificial_intelligence#sentence-139(88chars, 0imgs), org/wiki/artificial_intelligence#sentence-140(154chars, 0imgs), org/wiki/artificial_intelligence#sentence-141(130chars, 0imgs), org/wiki/artificial_intelligence#sentence-142(75chars, 0imgs), org/wiki/artificial_intelligence#sentence-143(120chars, 0imgs), org/wiki/artificial_intelligence#sentence-144(108chars, 0imgs), org/wiki/artificial_intelligence#sentence-145(890chars, 0imgs), org/wiki/artificial_intelligence#sentence-146(161chars, 0imgs), org/wiki/artificial_intelligence#sentence-147(162chars, 0imgs), org/wiki/artificial_intelligence#sentence-148(443chars, 0imgs), org/wiki/artificial_intelligence#sentence-149(194chars, 0imgs), org/wiki/artificial_intelligence#sentence-150(324chars, 0imgs), org/wiki/artificial_intelligence#sentence-151(219chars, 0imgs), org/wiki/artificial_intelligence#sentence-152(300chars, 0imgs), org/wiki/artificial_intelligence#sentence-153(262chars, 0imgs), org/wiki/artificial_intelligence#sentence-154(654chars, 0imgs), org/wiki/artificial_intelligence#sentence-155(826chars, 0imgs), org/wiki/artificial_intelligence#sentence-156(56chars, 0imgs), org/wiki/artificial_intelligence#sentence-157(111chars, 0imgs), org/wiki/artificial_intelligence#sentence-158(92chars, 0imgs), org/wiki/artificial_intelligence#sentence-159(59chars, 0imgs), org/wiki/artificial_intelligence#sentence-160(134chars, 0imgs), org/wiki/artificial_intelligence#sentence-161(336chars, 0imgs), org/wiki/artificial_intelligence#sentence-162(813chars, 0imgs), org/wiki/artificial_intelligence#sentence-163(95chars, 0imgs), org/wiki/artificial_intelligence#sentence-164(1361chars, 0imgs), org/wiki/artificial_intelligence#sentence-165(340chars, 0imgs), org/wiki/artificial_intelligence#sentence-166(73chars, 0imgs), org/wiki/artificial_intelligence#sentence-167(93chars, 0imgs), org/wiki/artificial_intelligence#sentence-168(692chars, 0imgs), org/wiki/artificial_intelligence#sentence-169(52chars, 0imgs), org/wiki/artificial_intelligence#sentence-170(154chars, 0imgs), org/wiki/artificial_intelligence#sentence-171(552chars, 0imgs), org/wiki/artificial_intelligence#sentence-172(648chars, 0imgs), org/wiki/artificial_intelligence#sentence-173(1044chars, 0imgs), org/wiki/artificial_intelligence#sentence-174(314chars, 0imgs), org/wiki/artificial_intelligence#sentence-175(332chars, 0imgs), org/wiki/artificial_intelligence#sentence-176(393chars, 0imgs), org/wiki/artificial_intelligence#sentence-177(221chars, 0imgs), org/wiki/artificial_intelligence#sentence-178(148chars, 0imgs), org/wiki/artificial_intelligence#sentence-179(225chars, 0imgs), org/wiki/artificial_intelligence#sentence-180(206chars, 0imgs), org/wiki/artificial_intelligence#sentence-181(1129chars, 0imgs), org/wiki/artificial_intelligence#sentence-182(879chars, 0imgs), org/wiki/artificial_intelligence#sentence-183(1049chars, 0imgs), org/wiki/artificial_intelligence#sentence-184(1370chars, 0imgs), org/wiki/artificial_intelligence#sentence-185(1175chars, 0imgs), org/wiki/artificial_intelligence#sentence-186(434chars, 0imgs), org/wiki/artificial_intelligence#sentence-187(175chars, 0imgs), org/wiki/artificial_intelligence#sentence-188(143chars, 0imgs), org/wiki/artificial_intelligence#sentence-189(521chars, 0imgs), org/wiki/artificial_intelligence#sentence-190(61chars, 0imgs), org/wiki/artificial_intelligence#sentence-191(76chars, 0imgs), org/wiki/artificial_intelligence#sentence-192(385chars, 0imgs), org/wiki/artificial_intelligence#sentence-193(1041chars, 0imgs), org/wiki/artificial_intelligence#sentence-194(515chars, 0imgs), org/wiki/artificial_intelligence#sentence-195(547chars, 0imgs), org/wiki/artificial_intelligence#sentence-196(449chars, 0imgs), org/wiki/artificial_intelligence#sentence-197(175chars, 0imgs), org/wiki/artificial_intelligence#sentence-198(74chars, 0imgs), org/wiki/artificial_intelligence#sentence-199(75chars, 0imgs), org/wiki/artificial_intelligence#sentence-200(529chars, 0imgs), org/wiki/artificial_intelligence#sentence-201(95chars, 0imgs), org/wiki/artificial_intelligence#sentence-202(34chars, 0imgs), org/wiki/artificial_intelligence#sentence-203(92chars, 0imgs), org/wiki/artificial_intelligence#sentence-204(1043chars, 0imgs), org/wiki/artificial_intelligence#sentence-205(353chars, 0imgs), org/wiki/artificial_intelligence#sentence-206(1003chars, 0imgs), org/wiki/artificial_intelligence#sentence-207(91chars, 0imgs), org/wiki/artificial_intelligence#sentence-208(173chars, 0imgs), org/wiki/artificial_intelligence#sentence-209(695chars, 0imgs), org/wiki/artificial_intelligence#sentence-210(53chars, 0imgs), org/wiki/artificial_intelligence#sentence-211(99chars, 0imgs), org/wiki/artificial_intelligence#sentence-212(158chars, 0imgs), org/wiki/artificial_intelligence#sentence-213(78chars, 0imgs), org/wiki/artificial_intelligence#sentence-214(325chars, 0imgs), org/wiki/artificial_intelligence#sentence-215(683chars, 0imgs), org/wiki/artificial_intelligence#sentence-216(316chars, 0imgs), org/wiki/artificial_intelligence#sentence-217(98chars, 0imgs), org/wiki/artificial_intelligence#sentence-218(134chars, 0imgs), org/wiki/artificial_intelligence#sentence-219(92chars, 0imgs), org/wiki/artificial_intelligence#sentence-220(116chars, 0imgs), org/wiki/artificial_intelligence#sentence-221(100chars, 0imgs), org/wiki/artificial_intelligence#sentence-222(30chars, 0imgs), org/wiki/artificial_intelligence#sentence-223(275chars, 0imgs), org/wiki/artificial_intelligence#sentence-224(151chars, 0imgs), org/wiki/artificial_intelligence#sentence-225(451chars, 0imgs), org/wiki/artificial_intelligence#sentence-226(78chars, 0imgs), org/wiki/artificial_intelligence#sentence-227(160chars, 0imgs), org/wiki/artificial_intelligence#sentence-228(95chars, 0imgs), org/wiki/artificial_intelligence#sentence-229(166chars, 0imgs), org/wiki/artificial_intelligence#sentence-230(230chars, 0imgs), org/wiki/artificial_intelligence#sentence-231(88chars, 0imgs), org/wiki/artificial_intelligence#sentence-232(235chars, 0imgs), org/wiki/artificial_intelligence#sentence-233(225chars, 0imgs), org/wiki/artificial_intelligence#sentence-234(106chars, 0imgs), org/wiki/artificial_intelligence#sentence-235(378chars, 0imgs), org/wiki/artificial_intelligence#sentence-236(193chars, 0imgs), org/wiki/artificial_intelligence#sentence-237(1296chars, 0imgs), org/wiki/artificial_intelligence#sentence-238(304chars, 0imgs), org/wiki/artificial_intelligence#sentence-239(143chars, 0imgs), org/wiki/artificial_intelligence#sentence-240(116chars, 0imgs), org/wiki/artificial_intelligence#sentence-241(479chars, 0imgs), org/wiki/artificial_intelligence#sentence-242(81chars, 0imgs), org/wiki/artificial_intelligence#sentence-243(1chars, 0imgs), org/wiki/artificial_intelligence#sentence-244(479chars, 0imgs), org/wiki/artificial_intelligence#sentence-245(677chars, 0imgs), org/wiki/artificial_intelligence#sentence-246(36chars, 0imgs), org/wiki/artificial_intelligence#sentence-247(200chars, 0imgs), org/wiki/artificial_intelligence#sentence-248(292chars, 0imgs), org/wiki/artificial_intelligence#sentence-249(462chars, 0imgs), org/wiki/artificial_intelligence#sentence-250(51chars, 0imgs), org/wiki/artificial_intelligence#sentence-251(110chars, 0imgs), org/wiki/artificial_intelligence#sentence-252(4chars, 0imgs), org/wiki/artificial_intelligence#sentence-253(29654chars, 0imgs), org/wiki/artificial_intelligence#sentence-254(1894chars, 0imgs), org/wiki/artificial_intelligence#sentence-255(6539chars, 0imgs), org/wiki/artificial_intelligence#sentence-256(11757chars, 0imgs), org/wiki/artificial_intelligence#sentence-257(1chars, 0imgs), org/wiki/artificial_intelligence#sentence-258(1164chars, 0imgs), org/wiki/artificial_intelligence#sentence-259(719chars, 0imgs), org/wiki/artificial_intelligence#sentence-260(199chars, 0imgs), org/wiki/artificial_intelligence#sentence-261(242chars, 0imgs)])"
      ]
     },
     "execution_count": 2,
     "metadata": {},
     "output_type": "execute_result"
    }
   ],
   "source": [
    "from attachments import Attachments\n",
    "\n",
    "res = Attachments(\"https://en.wikipedia.org/wiki/Artificial_intelligence[bad: dsl][images: false][select: p][split: sentences]\") \n",
    "\n",
    "res"
   ]
  },
  {
   "cell_type": "code",
   "execution_count": 5,
   "id": "d8fb5bbd",
   "metadata": {},
   "outputs": [
    {
     "data": {
      "text/plain": [
       "261"
      ]
     },
     "execution_count": 5,
     "metadata": {},
     "output_type": "execute_result"
    }
   ],
   "source": [
    "len(res)"
   ]
  },
  {
   "cell_type": "code",
   "execution_count": null,
   "id": "fa701d2f",
   "metadata": {},
   "outputs": [],
   "source": [
    "for i, att in enumerate(res):\n",
    "    print(f\"{i}: {att.text[:500]}\")\n",
    "\n",
    "\n",
    "\n"
   ]
  },
  {
   "cell_type": "code",
   "execution_count": null,
   "id": "c45c2071",
   "metadata": {},
   "outputs": [],
   "source": [
    "print(res.images)\n",
    "\n",
    "\n",
    "\n",
    "\n",
    "\n",
    "\n",
    "\n"
   ]
  },
  {
   "cell_type": "code",
   "execution_count": null,
   "id": "3b153c4e",
   "metadata": {},
   "outputs": [],
   "source": [
    "ctx = Attachments(\"https://en.wikipedia.org/wiki/Artificial_intelligence[images: false][select: p][split: paragraphs]\")"
   ]
  },
  {
   "cell_type": "code",
   "execution_count": null,
   "id": "4194fc85",
   "metadata": {
    "lines_to_next_cell": 0
   },
   "outputs": [],
   "source": [
    "len(ctx[0].text)"
   ]
  },
  {
   "cell_type": "code",
   "execution_count": null,
   "id": "79e24731",
   "metadata": {
    "lines_to_next_cell": 0
   },
   "outputs": [],
   "source": [
    "len(ctx)"
   ]
  },
  {
   "cell_type": "code",
   "execution_count": null,
   "id": "aca62b52",
   "metadata": {
    "lines_to_next_cell": 0
   },
   "outputs": [],
   "source": [
    "len(ctx[0].images)"
   ]
  },
  {
   "cell_type": "code",
   "execution_count": null,
   "id": "7977330b",
   "metadata": {
    "lines_to_next_cell": 0
   },
   "outputs": [],
   "source": [
    "len(ctx[0].images[0])"
   ]
  },
  {
   "cell_type": "code",
   "execution_count": null,
   "id": "9e475ce5",
   "metadata": {
    "lines_to_next_cell": 0
   },
   "outputs": [],
   "source": [
    "len(ctx[0].images[0][0])"
   ]
  },
  {
   "cell_type": "code",
   "execution_count": null,
   "id": "fbe6ed77",
   "metadata": {},
   "outputs": [],
   "source": [
    "for i, att in enumerate(ctx.attachments):\n",
    "    print(f\"{i}: {att.text[:100]}\")"
   ]
  },
  {
   "cell_type": "code",
   "execution_count": null,
   "id": "fe5c711c",
   "metadata": {
    "lines_to_next_cell": 0
   },
   "outputs": [],
   "source": [
    "print(ctx.attachments[2].text)"
   ]
  },
  {
   "cell_type": "code",
   "execution_count": null,
   "id": "6ebf4f8e",
   "metadata": {},
   "outputs": [],
   "source": [
    "print(str(ctx))"
   ]
  },
  {
   "cell_type": "code",
   "execution_count": null,
   "id": "4765f514",
   "metadata": {},
   "outputs": [],
   "source": [
    "print(len(ctx.images))"
   ]
  },
  {
   "cell_type": "code",
   "execution_count": null,
   "id": "ded88f29",
   "metadata": {},
   "outputs": [],
   "source": []
  },
  {
   "cell_type": "code",
   "execution_count": null,
   "id": "8f00cab2",
   "metadata": {},
   "outputs": [],
   "source": [
    "# Option 1: Use included sample files (works offline)\n",
    "txt_path = get_sample_path(\"sample.txt\")\n",
    "ctx = Attachments(pdf_path, txt_path)\n",
    "\n",
    "print(str(ctx))      # Pretty text view\n",
    "print(len(ctx.images))  # Number of extracted images\n",
    "\n",
    "# Try different file types\n",
    "docx_path = get_sample_path(\"test_document.docx\")\n",
    "csv_path = get_sample_path(\"test.csv\")\n",
    "json_path = get_sample_path(\"sample.json\")\n",
    "\n",
    "ctx = Attachments(docx_path, csv_path, json_path)\n",
    "print(f\"Processed {len(ctx)} files: Word doc, CSV data, and JSON\")\n",
    "\n",
    "# Option 2: Use URLs (same API, works with any URL)\n",
    "ctx = Attachments(\n",
    "    \"https://github.com/MaximeRivest/attachments/raw/main/src/attachments/data/sample.pdf\",\n",
    "    \"https://github.com/MaximeRivest/attachments/raw/main/src/attachments/data/sample_multipage.pptx\"\n",
    ")\n",
    "\n",
    "print(str(ctx))      # Pretty text view  \n",
    "print(len(ctx.images))  # Number of extracted images\n",
    "```\n",
    "\n",
    "### Advanced usage with DSL\n",
    "\n",
    "```python\n",
    "from attachments import Attachments\n",
    "\n",
    "a = Attachments(\n",
    "    \"https://github.com/MaximeRivest/attachments/raw/main/src/attachments/data/\" \\\n",
    "    \"sample_multipage.pptx[3-5]\"\n",
    ")\n",
    "print(a)           # pretty text view\n",
    "len(a.images)      # 👉 base64 PNG list\n",
    "```"
   ]
  },
  {
   "cell_type": "code",
   "execution_count": 1,
   "id": "e7497c31",
   "metadata": {},
   "outputs": [
    {
     "name": "stderr",
     "output_type": "stream",
     "text": [
      "[Attachments] Parsed commands for 'https://en.wikipedia.org/wiki/Artificial_intelligence[images: false][select: p][split: sentences][unused: command]': {'images': 'false', 'select': 'p', 'split': 'sentences', 'unused': 'command'}\n",
      "[Attachments] Applying step 'load.url_to_bs4' to https://en.wikipedia.org/wiki/Artificial_intelligence\n",
      "[Attachments] Applying step 'modify.select' to https://en.wikipedia.org/wiki/Artificial_intelligence\n",
      "[Attachments] Accessing command: 'select' = 'p'\n"
     ]
    },
    {
     "name": "stdout",
     "output_type": "stream",
     "text": [
      "Split into 261 sentences.\n"
     ]
    },
    {
     "name": "stderr",
     "output_type": "stream",
     "text": [
      "[Attachments] Applying step 'present.markdown' to https://en.wikipedia.org/wiki/Artificial_intelligence\n",
      "[Attachments] Accessing command: 'images' = 'false'\n",
      "[Attachments] Applying step 'split.sentences' to https://en.wikipedia.org/wiki/Artificial_intelligence\n",
      "[Attachments] Accessing command: 'split' = 'sentences'\n",
      "[Attachments] Unused commands for 'https://en.wikipedia.org/wiki/Artificial_intelligence' (split into 261 chunks): ['unused']\n"
     ]
    }
   ],
   "source": [
    "from attachments import set_verbose, attach, load, modify, present, refine, split\n",
    "\n",
    "# Enable verbose logging to see the magic\n",
    "set_verbose(True)\n",
    "\n",
    "# Your pipeline + the new refiner at the end\n",
    "res = (\n",
    "    attach(\"https://en.wikipedia.org/wiki/Artificial_intelligence[images: false][select: p][split: sentences][unused: command]\")\n",
    "    | load.url_to_bs4\n",
    "    | modify.select\n",
    "    | present.markdown\n",
    "    | split.sentences\n",
    "    | refine.report_unused_commands  # <-- Add this to see the report\n",
    ")\n",
    "\n",
    "print(f\"Split into {len(res)} sentences.\")"
   ]
  },
  {
   "cell_type": "code",
   "execution_count": 1,
   "id": "25fce21c",
   "metadata": {},
   "outputs": [
    {
     "name": "stdout",
     "output_type": "stream",
     "text": [
      "{\n",
      "  \"ignore\": [\n",
      "    {\n",
      "      \"used_in\": \"loader.directory_to_structure\",\n",
      "      \"type\": \"loader\",\n",
      "      \"docstring\": \"Load directory or glob pattern structure and file list.\\n    \\n    DSL: [files:true] = process individual files, [files:false] = structure + metadata only (default)\\n    \",\n",
      "      \"source_file\": \"/home/maxime/Projects/attachments/src/attachments/core.py\",\n",
      "      \"source_line\": 13\n",
      "    },\n",
      "    {\n",
      "      \"used_in\": \"loader.git_repo_to_structure\",\n",
      "      \"type\": \"loader\",\n",
      "      \"docstring\": \"Load Git repository structure and file list.\\n    \\n    DSL: [files:true] = process individual files, [files:false] = structure + metadata only (default)\\n         [mode:content|metadata|structure] = processing mode\\n    \",\n",
      "      \"source_file\": \"/home/maxime/Projects/attachments/src/attachments/core.py\",\n",
      "      \"source_line\": 12\n",
      "    }\n",
      "  ],\n",
      "  \"max_files\": [\n",
      "    {\n",
      "      \"used_in\": \"loader.directory_to_structure\",\n",
      "      \"type\": \"loader\",\n",
      "      \"docstring\": \"Load directory or glob pattern structure and file list.\\n    \\n    DSL: [files:true] = process individual files, [files:false] = structure + metadata only (default)\\n    \",\n",
      "      \"source_file\": \"/home/maxime/Projects/attachments/src/attachments/core.py\",\n",
      "      \"source_line\": 13\n",
      "    },\n",
      "    {\n",
      "      \"used_in\": \"loader.git_repo_to_structure\",\n",
      "      \"type\": \"loader\",\n",
      "      \"docstring\": \"Load Git repository structure and file list.\\n    \\n    DSL: [files:true] = process individual files, [files:false] = structure + metadata only (default)\\n         [mode:content|metadata|structure] = processing mode\\n    \",\n",
      "      \"source_file\": \"/home/maxime/Projects/attachments/src/attachments/core.py\",\n",
      "      \"source_line\": 12\n",
      "    }\n",
      "  ],\n",
      "  \"glob\": [\n",
      "    {\n",
      "      \"used_in\": \"loader.directory_to_structure\",\n",
      "      \"type\": \"loader\",\n",
      "      \"docstring\": \"Load directory or glob pattern structure and file list.\\n    \\n    DSL: [files:true] = process individual files, [files:false] = structure + metadata only (default)\\n    \",\n",
      "      \"source_file\": \"/home/maxime/Projects/attachments/src/attachments/core.py\",\n",
      "      \"source_line\": 13\n",
      "    },\n",
      "    {\n",
      "      \"used_in\": \"loader.git_repo_to_structure\",\n",
      "      \"type\": \"loader\",\n",
      "      \"docstring\": \"Load Git repository structure and file list.\\n    \\n    DSL: [files:true] = process individual files, [files:false] = structure + metadata only (default)\\n         [mode:content|metadata|structure] = processing mode\\n    \",\n",
      "      \"source_file\": \"/home/maxime/Projects/attachments/src/attachments/core.py\",\n",
      "      \"source_line\": 12\n",
      "    }\n",
      "  ],\n",
      "  \"files\": [\n",
      "    {\n",
      "      \"used_in\": \"loader.directory_to_structure\",\n",
      "      \"type\": \"loader\",\n",
      "      \"docstring\": \"Load directory or glob pattern structure and file list.\\n    \\n    DSL: [files:true] = process individual files, [files:false] = structure + metadata only (default)\\n    \",\n",
      "      \"source_file\": \"/home/maxime/Projects/attachments/src/attachments/core.py\",\n",
      "      \"source_line\": 13\n",
      "    },\n",
      "    {\n",
      "      \"used_in\": \"loader.git_repo_to_structure\",\n",
      "      \"type\": \"loader\",\n",
      "      \"docstring\": \"Load Git repository structure and file list.\\n    \\n    DSL: [files:true] = process individual files, [files:false] = structure + metadata only (default)\\n         [mode:content|metadata|structure] = processing mode\\n    \",\n",
      "      \"source_file\": \"/home/maxime/Projects/attachments/src/attachments/core.py\",\n",
      "      \"source_line\": 12\n",
      "    }\n",
      "  ],\n",
      "  \"mode\": [\n",
      "    {\n",
      "      \"used_in\": \"loader.git_repo_to_structure\",\n",
      "      \"type\": \"loader\",\n",
      "      \"docstring\": \"Load Git repository structure and file list.\\n    \\n    DSL: [files:true] = process individual files, [files:false] = structure + metadata only (default)\\n         [mode:content|metadata|structure] = processing mode\\n    \",\n",
      "      \"source_file\": \"/home/maxime/Projects/attachments/src/attachments/core.py\",\n",
      "      \"source_line\": 12\n",
      "    }\n",
      "  ],\n",
      "  \"force\": [\n",
      "    {\n",
      "      \"used_in\": \"loader.directory_to_structure\",\n",
      "      \"type\": \"loader\",\n",
      "      \"docstring\": \"Load directory or glob pattern structure and file list.\\n    \\n    DSL: [files:true] = process individual files, [files:false] = structure + metadata only (default)\\n    \",\n",
      "      \"source_file\": \"/home/maxime/Projects/attachments/src/attachments/core.py\",\n",
      "      \"source_line\": 13\n",
      "    },\n",
      "    {\n",
      "      \"used_in\": \"loader.git_repo_to_structure\",\n",
      "      \"type\": \"loader\",\n",
      "      \"docstring\": \"Load Git repository structure and file list.\\n    \\n    DSL: [files:true] = process individual files, [files:false] = structure + metadata only (default)\\n         [mode:content|metadata|structure] = processing mode\\n    \",\n",
      "      \"source_file\": \"/home/maxime/Projects/attachments/src/attachments/core.py\",\n",
      "      \"source_line\": 12\n",
      "    }\n",
      "  ],\n",
      "  \"recursive\": [\n",
      "    {\n",
      "      \"used_in\": \"loader.directory_to_structure\",\n",
      "      \"type\": \"loader\",\n",
      "      \"docstring\": \"Load directory or glob pattern structure and file list.\\n    \\n    DSL: [files:true] = process individual files, [files:false] = structure + metadata only (default)\\n    \",\n",
      "      \"source_file\": \"/home/maxime/Projects/attachments/src/attachments/core.py\",\n",
      "      \"source_line\": 13\n",
      "    }\n",
      "  ],\n",
      "  \"dirs_only_with_files\": [\n",
      "    {\n",
      "      \"used_in\": \"loader.directory_to_structure\",\n",
      "      \"type\": \"loader\",\n",
      "      \"docstring\": \"Load directory or glob pattern structure and file list.\\n    \\n    DSL: [files:true] = process individual files, [files:false] = structure + metadata only (default)\\n    \",\n",
      "      \"source_file\": \"/home/maxime/Projects/attachments/src/attachments/core.py\",\n",
      "      \"source_line\": 13\n",
      "    }\n",
      "  ],\n",
      "  \"pages\": [\n",
      "    {\n",
      "      \"used_in\": \"modifier.pages\",\n",
      "      \"type\": \"modifier\",\n",
      "      \"docstring\": \"Extract specific pages from PDF.\",\n",
      "      \"source_file\": \"/home/maxime/Projects/attachments/src/attachments/modify.py\",\n",
      "      \"source_line\": 16\n",
      "    },\n",
      "    {\n",
      "      \"used_in\": \"modifier.pages\",\n",
      "      \"type\": \"modifier\",\n",
      "      \"docstring\": \"Extract specific slides from PowerPoint.\",\n",
      "      \"source_file\": \"/home/maxime/Projects/attachments/src/attachments/modify.py\",\n",
      "      \"source_line\": 44\n",
      "    }\n",
      "  ],\n",
      "  \"limit\": [\n",
      "    {\n",
      "      \"used_in\": \"modifier.limit\",\n",
      "      \"type\": \"modifier\",\n",
      "      \"docstring\": \"Limit pandas DataFrame rows.\",\n",
      "      \"source_file\": \"/home/maxime/Projects/attachments/src/attachments/modify.py\",\n",
      "      \"source_line\": 70\n",
      "    }\n",
      "  ],\n",
      "  \"select\": [\n",
      "    {\n",
      "      \"used_in\": \"modifier.select\",\n",
      "      \"type\": \"modifier\",\n",
      "      \"docstring\": \"Select columns from pandas DataFrame.\",\n",
      "      \"source_file\": \"/home/maxime/Projects/attachments/src/attachments/modify.py\",\n",
      "      \"source_line\": 82\n",
      "    },\n",
      "    {\n",
      "      \"used_in\": \"modifier.select\",\n",
      "      \"type\": \"modifier\",\n",
      "      \"docstring\": \"\\n    Generic select modifier that works with different object types.\\n    Can be used with both command syntax and direct arguments.\\n    \",\n",
      "      \"source_file\": \"/home/maxime/Projects/attachments/src/attachments/modify.py\",\n",
      "      \"source_line\": 94\n",
      "    },\n",
      "    {\n",
      "      \"used_in\": \"presenter.images\",\n",
      "      \"type\": \"presenter\",\n",
      "      \"docstring\": \"Capture webpage screenshot using Playwright with JavaScript rendering and CSS selector highlighting.\",\n",
      "      \"source_file\": \"/home/maxime/Projects/attachments/src/attachments/core.py\",\n",
      "      \"source_line\": 839\n",
      "    }\n",
      "  ],\n",
      "  \"crop\": [\n",
      "    {\n",
      "      \"used_in\": \"modifier.crop\",\n",
      "      \"type\": \"modifier\",\n",
      "      \"docstring\": \"Crop: [crop:x1,y1,x2,y2] (box: left, upper, right, lower)\",\n",
      "      \"source_file\": \"/home/maxime/Projects/attachments/src/attachments/modify.py\",\n",
      "      \"source_line\": 137\n",
      "    }\n",
      "  ],\n",
      "  \"rotate\": [\n",
      "    {\n",
      "      \"used_in\": \"modifier.rotate\",\n",
      "      \"type\": \"modifier\",\n",
      "      \"docstring\": \"Rotate: [rotate:degrees] (positive = clockwise)\",\n",
      "      \"source_file\": \"/home/maxime/Projects/attachments/src/attachments/modify.py\",\n",
      "      \"source_line\": 158\n",
      "    }\n",
      "  ],\n",
      "  \"resize\": [\n",
      "    {\n",
      "      \"used_in\": \"modifier.resize\",\n",
      "      \"type\": \"modifier\",\n",
      "      \"docstring\": \"Resize: [resize:50%] or [resize:800x600] or [resize:800]\",\n",
      "      \"source_file\": \"/home/maxime/Projects/attachments/src/attachments/modify.py\",\n",
      "      \"source_line\": 165\n",
      "    },\n",
      "    {\n",
      "      \"used_in\": \"presenter.images\",\n",
      "      \"type\": \"presenter\",\n",
      "      \"docstring\": \"Convert PDF pages to PNG images using pypdfium2.\",\n",
      "      \"source_file\": \"/home/maxime/Projects/attachments/src/attachments/core.py\",\n",
      "      \"source_line\": 181\n",
      "    },\n",
      "    {\n",
      "      \"used_in\": \"presenter.images\",\n",
      "      \"type\": \"presenter\",\n",
      "      \"docstring\": \"Render SVG to PNG image using cairosvg or wand (ImageMagick).\",\n",
      "      \"source_file\": \"/home/maxime/Projects/attachments/src/attachments/core.py\",\n",
      "      \"source_line\": 582\n",
      "    },\n",
      "    {\n",
      "      \"used_in\": \"presenter.images\",\n",
      "      \"type\": \"presenter\",\n",
      "      \"docstring\": \"Render EPS to PNG image using ImageMagick (wand) or Ghostscript.\",\n",
      "      \"source_file\": \"/home/maxime/Projects/attachments/src/attachments/core.py\",\n",
      "      \"source_line\": 1136\n",
      "    }\n",
      "  ],\n",
      "  \"watermark\": [\n",
      "    {\n",
      "      \"used_in\": \"modifier.watermark\",\n",
      "      \"type\": \"modifier\",\n",
      "      \"docstring\": \"Add watermark to image: [watermark:text] or [watermark:text|position|style]\\n    \\n    DSL Commands:\\n    - [watermark:My Text] - Simple text watermark (bottom-right)\\n    - [watermark:My Text|bottom-left] - Custom position\\n    - [watermark:My Text|center|large] - Custom position and style\\n    - [watermark:auto] - Auto watermark with filename\\n    \\n    Positions: bottom-right, bottom-left, top-right, top-left, center\\n    Styles: small, medium, large (affects font size and background)\\n    \\n    By default, applies auto watermark if no watermark command is specified.\\n    \",\n",
      "      \"source_file\": \"/home/maxime/Projects/attachments/src/attachments/modify.py\",\n",
      "      \"source_line\": 211\n",
      "    }\n",
      "  ],\n",
      "  \"resize_images\": [\n",
      "    {\n",
      "      \"used_in\": \"presenter.images\",\n",
      "      \"type\": \"presenter\",\n",
      "      \"docstring\": \"Convert DOCX pages to PNG images by converting to PDF first, then rendering.\",\n",
      "      \"source_file\": \"/home/maxime/Projects/attachments/src/attachments/core.py\",\n",
      "      \"source_line\": 48\n",
      "    },\n",
      "    {\n",
      "      \"used_in\": \"presenter.images\",\n",
      "      \"type\": \"presenter\",\n",
      "      \"docstring\": \"Convert PDF pages to PNG images using pypdfium2.\",\n",
      "      \"source_file\": \"/home/maxime/Projects/attachments/src/attachments/core.py\",\n",
      "      \"source_line\": 181\n",
      "    },\n",
      "    {\n",
      "      \"used_in\": \"presenter.images\",\n",
      "      \"type\": \"presenter\",\n",
      "      \"docstring\": \"Convert PPTX slides to PNG images by converting to PDF first, then rendering.\",\n",
      "      \"source_file\": \"/home/maxime/Projects/attachments/src/attachments/core.py\",\n",
      "      \"source_line\": 316\n",
      "    },\n",
      "    {\n",
      "      \"used_in\": \"presenter.images\",\n",
      "      \"type\": \"presenter\",\n",
      "      \"docstring\": \"Convert Excel sheets to PNG images by converting to PDF first, then rendering.\",\n",
      "      \"source_file\": \"/home/maxime/Projects/attachments/src/attachments/core.py\",\n",
      "      \"source_line\": 449\n",
      "    },\n",
      "    {\n",
      "      \"used_in\": \"presenter.images\",\n",
      "      \"type\": \"presenter\",\n",
      "      \"docstring\": \"Render SVG to PNG image using cairosvg or wand (ImageMagick).\",\n",
      "      \"source_file\": \"/home/maxime/Projects/attachments/src/attachments/core.py\",\n",
      "      \"source_line\": 582\n",
      "    },\n",
      "    {\n",
      "      \"used_in\": \"presenter.images\",\n",
      "      \"type\": \"presenter\",\n",
      "      \"docstring\": \"Render EPS to PNG image using ImageMagick (wand) or Ghostscript.\",\n",
      "      \"source_file\": \"/home/maxime/Projects/attachments/src/attachments/core.py\",\n",
      "      \"source_line\": 1136\n",
      "    }\n",
      "  ],\n",
      "  \"viewport\": [\n",
      "    {\n",
      "      \"used_in\": \"presenter.images\",\n",
      "      \"type\": \"presenter\",\n",
      "      \"docstring\": \"Capture webpage screenshot using Playwright with JavaScript rendering and CSS selector highlighting.\",\n",
      "      \"source_file\": \"/home/maxime/Projects/attachments/src/attachments/core.py\",\n",
      "      \"source_line\": 839\n",
      "    }\n",
      "  ],\n",
      "  \"fullpage\": [\n",
      "    {\n",
      "      \"used_in\": \"presenter.images\",\n",
      "      \"type\": \"presenter\",\n",
      "      \"docstring\": \"Capture webpage screenshot using Playwright with JavaScript rendering and CSS selector highlighting.\",\n",
      "      \"source_file\": \"/home/maxime/Projects/attachments/src/attachments/core.py\",\n",
      "      \"source_line\": 839\n",
      "    }\n",
      "  ],\n",
      "  \"wait\": [\n",
      "    {\n",
      "      \"used_in\": \"presenter.images\",\n",
      "      \"type\": \"presenter\",\n",
      "      \"docstring\": \"Capture webpage screenshot using Playwright with JavaScript rendering and CSS selector highlighting.\",\n",
      "      \"source_file\": \"/home/maxime/Projects/attachments/src/attachments/core.py\",\n",
      "      \"source_line\": 839\n",
      "    }\n",
      "  ],\n",
      "  \"characters\": [\n",
      "    {\n",
      "      \"used_in\": \"splitter.characters\",\n",
      "      \"type\": \"splitter\",\n",
      "      \"docstring\": \"Split text content by character count.\",\n",
      "      \"source_file\": \"/home/maxime/Projects/attachments/src/attachments/split.py\",\n",
      "      \"source_line\": 78\n",
      "    }\n",
      "  ],\n",
      "  \"tokens\": [\n",
      "    {\n",
      "      \"used_in\": \"splitter.tokens\",\n",
      "      \"type\": \"splitter\",\n",
      "      \"docstring\": \"Split text content by approximate token count (for LLM contexts).\",\n",
      "      \"source_file\": \"/home/maxime/Projects/attachments/src/attachments/split.py\",\n",
      "      \"source_line\": 111\n",
      "    }\n",
      "  ],\n",
      "  \"lines\": [\n",
      "    {\n",
      "      \"used_in\": \"splitter.lines\",\n",
      "      \"type\": \"splitter\",\n",
      "      \"docstring\": \"Split text content by line count.\",\n",
      "      \"source_file\": \"/home/maxime/Projects/attachments/src/attachments/split.py\",\n",
      "      \"source_line\": 167\n",
      "    }\n",
      "  ],\n",
      "  \"rows\": [\n",
      "    {\n",
      "      \"used_in\": \"splitter.rows\",\n",
      "      \"type\": \"splitter\",\n",
      "      \"docstring\": \"Split DataFrame into row-based chunks.\",\n",
      "      \"source_file\": \"/home/maxime/Projects/attachments/src/attachments/split.py\",\n",
      "      \"source_line\": 248\n",
      "    }\n",
      "  ],\n",
      "  \"columns\": [\n",
      "    {\n",
      "      \"used_in\": \"splitter.columns\",\n",
      "      \"type\": \"splitter\",\n",
      "      \"docstring\": \"Split DataFrame into column-based chunks.\",\n",
      "      \"source_file\": \"/home/maxime/Projects/attachments/src/attachments/split.py\",\n",
      "      \"source_line\": 277\n",
      "    }\n",
      "  ],\n",
      "  \"custom\": [\n",
      "    {\n",
      "      \"used_in\": \"splitter.custom\",\n",
      "      \"type\": \"splitter\",\n",
      "      \"docstring\": \"Split text content by custom separator.\",\n",
      "      \"source_file\": \"/home/maxime/Projects/attachments/src/attachments/split.py\",\n",
      "      \"source_line\": 363\n",
      "    }\n",
      "  ],\n",
      "  \"format\": [\n",
      "    {\n",
      "      \"used_in\": \"processor.csv_to_llm\",\n",
      "      \"type\": \"processor\",\n",
      "      \"docstring\": \"\\n    Process CSV files for LLM consumption.\\n    \\n    Supports DSL commands:\\n    - summary: true, false (default: false) - Include summary statistics\\n    - head: true, false (default: false) - Include data preview\\n    - format: plain, markdown (default), csv for different text representations\\n    - limit: N for row limiting\\n    \\n    Text formats:\\n    - plain: Clean text representation\\n    - markdown: Structured markdown with tables (default)\\n    - csv: Raw CSV format\\n    \",\n",
      "      \"source_file\": \"/home/maxime/Projects/attachments/src/attachments/pipelines/csv_processor.py\",\n",
      "      \"source_line\": 32\n",
      "    },\n",
      "    {\n",
      "      \"used_in\": \"processor.docx_to_llm\",\n",
      "      \"type\": \"processor\",\n",
      "      \"docstring\": \"\\n    Process DOCX files for LLM consumption.\\n    \\n    Supports DSL commands:\\n    - format: plain, markdown (default), xml/code for different text representations\\n    - images: true (default), false to control image extraction\\n    - pages: 1-5,10 for specific page selection\\n    - resize_images: 50%, 800x600 for image resizing\\n    - tile: 2x2, 3x1 for page tiling\\n    \\n    Text formats:\\n    - plain: Clean text extraction from all paragraphs\\n    - markdown: Structured markdown with heading detection (default)\\n    - xml: Raw DOCX XML content for detailed analysis\\n    \",\n",
      "      \"source_file\": \"/home/maxime/Projects/attachments/src/attachments/pipelines/docx_processor.py\",\n",
      "      \"source_line\": 36\n",
      "    },\n",
      "    {\n",
      "      \"used_in\": \"processor.eps_to_llm\",\n",
      "      \"type\": \"processor\",\n",
      "      \"docstring\": \"\\n    Process EPS files for LLM consumption.\\n    \\n    Provides both:\\n    - Raw PostScript content for textual analysis (structure, commands, data)\\n    - Rendered PNG image for visual analysis (requires ImageMagick/Ghostscript)\\n    \\n    Supports DSL commands:\\n    - resize_images: 50%, 800x600 (for rendered image output)\\n    - format: text, markdown, xml (for text output format)\\n    \\n    Aliases: text=plain, txt=plain, md=markdown, code=xml\\n    \\n    By default, shows raw PostScript content which is perfect for LLM analysis.\\n    \",\n",
      "      \"source_file\": \"/home/maxime/Projects/attachments/src/attachments/pipelines/vector_graphics_processor.py\",\n",
      "      \"source_line\": 78\n",
      "    },\n",
      "    {\n",
      "      \"used_in\": \"processor.excel_to_llm\",\n",
      "      \"type\": \"processor\",\n",
      "      \"docstring\": \"\\n    Process Excel files for LLM consumption.\\n    \\n    Supports DSL commands:\\n    - format: plain, markdown (default) for different text representations\\n    - images: true (default), false to control sheet screenshot extraction\\n    - pages: 1-3,5 for specific sheet selection (treats pages as sheets)\\n    - resize_images: 50%, 800x600 for image resizing\\n    - tile: 2x2, 3x1 for sheet tiling\\n    \\n    Text formats:\\n    - plain: Clean text summary with sheet dimensions and data preview\\n    - markdown: Structured markdown with sheet headers and table previews (default)\\n    \\n    Future improvements noted in presenter docstrings.\\n    \",\n",
      "      \"source_file\": \"/home/maxime/Projects/attachments/src/attachments/pipelines/excel_processor.py\",\n",
      "      \"source_line\": 43\n",
      "    },\n",
      "    {\n",
      "      \"used_in\": \"processor.pdf_to_llm\",\n",
      "      \"type\": \"processor\",\n",
      "      \"docstring\": \"\\n    Process PDF files for LLM consumption.\\n    \\n    Supports DSL commands (for Attachments() simple API):\\n    - images: true, false (default: true)\\n    - format: plain, markdown, code (default: markdown)\\n      Aliases: text=plain, txt=plain, md=markdown\\n    - resize_images: 50%, 800x600 (for images)\\n    - tile: 2x2, 3x1, 4 (for tiling multiple pages)\\n    - pages: 1-5,10 (for page selection)\\n    - ocr: auto, true, false (OCR for scanned PDFs, auto=detect and apply if needed)\\n    \",\n",
      "      \"source_file\": \"/home/maxime/Projects/attachments/src/attachments/pipelines/pdf_processor.py\",\n",
      "      \"source_line\": 43\n",
      "    },\n",
      "    {\n",
      "      \"used_in\": \"processor.pptx_to_llm\",\n",
      "      \"type\": \"processor\",\n",
      "      \"docstring\": \"\\n    Process PPTX files for LLM consumption.\\n    \\n    Supports DSL commands:\\n    - format: plain, markdown (default), xml/code for different text representations\\n    - images: true (default), false to control image extraction\\n    - pages: 1-5,10 for specific slide selection\\n    - resize_images: 50%, 800x600 for image resizing\\n    - tile: 2x2, 3x1 for slide tiling\\n    \\n    Text formats:\\n    - plain: Clean text extraction from all slides\\n    - markdown: Structured markdown with slide headers (default)\\n    - xml: Raw PPTX XML content for detailed analysis\\n    \",\n",
      "      \"source_file\": \"/home/maxime/Projects/attachments/src/attachments/pipelines/pptx_processor.py\",\n",
      "      \"source_line\": 36\n",
      "    },\n",
      "    {\n",
      "      \"used_in\": \"processor.svg_to_llm\",\n",
      "      \"type\": \"processor\",\n",
      "      \"docstring\": \"\\n    Process SVG files for LLM consumption.\\n    \\n    Provides both:\\n    - Raw SVG content for textual analysis (structure, data, elements)\\n    - Rendered PNG image for visual analysis (requires cairosvg)\\n    \\n    Supports DSL commands:\\n    - resize_images: 50%, 800x600 (for rendered image output)\\n    - format: text, markdown, xml (for text output format)\\n    \\n    Aliases: text=plain, txt=plain, md=markdown, code=xml\\n    \\n    By default, shows raw SVG content which is perfect for LLM analysis.\\n    \",\n",
      "      \"source_file\": \"/home/maxime/Projects/attachments/src/attachments/pipelines/vector_graphics_processor.py\",\n",
      "      \"source_line\": 26\n",
      "    },\n",
      "    {\n",
      "      \"used_in\": \"processor.webpage_to_llm\",\n",
      "      \"type\": \"processor\",\n",
      "      \"docstring\": \"\\n    Process web pages for LLM consumption.\\n    \\n    Supports DSL commands:\\n    - format: plain, markdown (default), code for different text representations\\n    - select: CSS selector to extract specific elements (e.g., h1, .class, #id)\\n    - images: true (default), false to control screenshot capture\\n    - viewport: 1280x720 for browser viewport size\\n    - fullpage: true (default), false for viewport-only screenshots\\n    - wait: 2000 for page settling time in milliseconds\\n    - split: paragraphs, sentences, tokens, lines, custom for content splitting\\n    \\n    Text formats:\\n    - plain: Clean text extraction from page content\\n    - markdown: Structured markdown preserving some formatting (default)\\n    - code: Raw HTML structure for detailed analysis\\n    \\n    CSS Selection:\\n    - Supports any valid CSS selector\\n    - Examples: title, h1, .content, #main, p, article h2\\n    - Multiple selectors: .post-content, .article-body\\n    \\n    Screenshot capabilities:\\n    - Full page screenshots with JavaScript rendering\\n    - Customizable viewport sizes\\n    - Configurable wait times for dynamic content\\n    \\n    Split capabilities:\\n    - Split extracted content into chunks using various strategies\\n    - Works with all text formats and CSS selection\\n    \",\n",
      "      \"source_file\": \"/home/maxime/Projects/attachments/src/attachments/pipelines/webpage_processor.py\",\n",
      "      \"source_line\": 55\n",
      "    }\n",
      "  ],\n",
      "  \"images\": [\n",
      "    {\n",
      "      \"used_in\": \"processor.docx_to_llm\",\n",
      "      \"type\": \"processor\",\n",
      "      \"docstring\": \"\\n    Process DOCX files for LLM consumption.\\n    \\n    Supports DSL commands:\\n    - format: plain, markdown (default), xml/code for different text representations\\n    - images: true (default), false to control image extraction\\n    - pages: 1-5,10 for specific page selection\\n    - resize_images: 50%, 800x600 for image resizing\\n    - tile: 2x2, 3x1 for page tiling\\n    \\n    Text formats:\\n    - plain: Clean text extraction from all paragraphs\\n    - markdown: Structured markdown with heading detection (default)\\n    - xml: Raw DOCX XML content for detailed analysis\\n    \",\n",
      "      \"source_file\": \"/home/maxime/Projects/attachments/src/attachments/pipelines/docx_processor.py\",\n",
      "      \"source_line\": 36\n",
      "    },\n",
      "    {\n",
      "      \"used_in\": \"processor.excel_to_llm\",\n",
      "      \"type\": \"processor\",\n",
      "      \"docstring\": \"\\n    Process Excel files for LLM consumption.\\n    \\n    Supports DSL commands:\\n    - format: plain, markdown (default) for different text representations\\n    - images: true (default), false to control sheet screenshot extraction\\n    - pages: 1-3,5 for specific sheet selection (treats pages as sheets)\\n    - resize_images: 50%, 800x600 for image resizing\\n    - tile: 2x2, 3x1 for sheet tiling\\n    \\n    Text formats:\\n    - plain: Clean text summary with sheet dimensions and data preview\\n    - markdown: Structured markdown with sheet headers and table previews (default)\\n    \\n    Future improvements noted in presenter docstrings.\\n    \",\n",
      "      \"source_file\": \"/home/maxime/Projects/attachments/src/attachments/pipelines/excel_processor.py\",\n",
      "      \"source_line\": 43\n",
      "    },\n",
      "    {\n",
      "      \"used_in\": \"processor.pdf_to_llm\",\n",
      "      \"type\": \"processor\",\n",
      "      \"docstring\": \"\\n    Process PDF files for LLM consumption.\\n    \\n    Supports DSL commands (for Attachments() simple API):\\n    - images: true, false (default: true)\\n    - format: plain, markdown, code (default: markdown)\\n      Aliases: text=plain, txt=plain, md=markdown\\n    - resize_images: 50%, 800x600 (for images)\\n    - tile: 2x2, 3x1, 4 (for tiling multiple pages)\\n    - pages: 1-5,10 (for page selection)\\n    - ocr: auto, true, false (OCR for scanned PDFs, auto=detect and apply if needed)\\n    \",\n",
      "      \"source_file\": \"/home/maxime/Projects/attachments/src/attachments/pipelines/pdf_processor.py\",\n",
      "      \"source_line\": 43\n",
      "    },\n",
      "    {\n",
      "      \"used_in\": \"processor.pptx_to_llm\",\n",
      "      \"type\": \"processor\",\n",
      "      \"docstring\": \"\\n    Process PPTX files for LLM consumption.\\n    \\n    Supports DSL commands:\\n    - format: plain, markdown (default), xml/code for different text representations\\n    - images: true (default), false to control image extraction\\n    - pages: 1-5,10 for specific slide selection\\n    - resize_images: 50%, 800x600 for image resizing\\n    - tile: 2x2, 3x1 for slide tiling\\n    \\n    Text formats:\\n    - plain: Clean text extraction from all slides\\n    - markdown: Structured markdown with slide headers (default)\\n    - xml: Raw PPTX XML content for detailed analysis\\n    \",\n",
      "      \"source_file\": \"/home/maxime/Projects/attachments/src/attachments/pipelines/pptx_processor.py\",\n",
      "      \"source_line\": 36\n",
      "    },\n",
      "    {\n",
      "      \"used_in\": \"processor.webpage_to_llm\",\n",
      "      \"type\": \"processor\",\n",
      "      \"docstring\": \"\\n    Process web pages for LLM consumption.\\n    \\n    Supports DSL commands:\\n    - format: plain, markdown (default), code for different text representations\\n    - select: CSS selector to extract specific elements (e.g., h1, .class, #id)\\n    - images: true (default), false to control screenshot capture\\n    - viewport: 1280x720 for browser viewport size\\n    - fullpage: true (default), false for viewport-only screenshots\\n    - wait: 2000 for page settling time in milliseconds\\n    - split: paragraphs, sentences, tokens, lines, custom for content splitting\\n    \\n    Text formats:\\n    - plain: Clean text extraction from page content\\n    - markdown: Structured markdown preserving some formatting (default)\\n    - code: Raw HTML structure for detailed analysis\\n    \\n    CSS Selection:\\n    - Supports any valid CSS selector\\n    - Examples: title, h1, .content, #main, p, article h2\\n    - Multiple selectors: .post-content, .article-body\\n    \\n    Screenshot capabilities:\\n    - Full page screenshots with JavaScript rendering\\n    - Customizable viewport sizes\\n    - Configurable wait times for dynamic content\\n    \\n    Split capabilities:\\n    - Split extracted content into chunks using various strategies\\n    - Works with all text formats and CSS selection\\n    \",\n",
      "      \"source_file\": \"/home/maxime/Projects/attachments/src/attachments/pipelines/webpage_processor.py\",\n",
      "      \"source_line\": 55\n",
      "    }\n",
      "  ],\n",
      "  \"ocr\": [\n",
      "    {\n",
      "      \"used_in\": \"processor.pdf_to_llm\",\n",
      "      \"type\": \"processor\",\n",
      "      \"docstring\": \"\\n    Process PDF files for LLM consumption.\\n    \\n    Supports DSL commands (for Attachments() simple API):\\n    - images: true, false (default: true)\\n    - format: plain, markdown, code (default: markdown)\\n      Aliases: text=plain, txt=plain, md=markdown\\n    - resize_images: 50%, 800x600 (for images)\\n    - tile: 2x2, 3x1, 4 (for tiling multiple pages)\\n    - pages: 1-5,10 (for page selection)\\n    - ocr: auto, true, false (OCR for scanned PDFs, auto=detect and apply if needed)\\n    \",\n",
      "      \"source_file\": \"/home/maxime/Projects/attachments/src/attachments/pipelines/pdf_processor.py\",\n",
      "      \"source_line\": 43\n",
      "    }\n",
      "  ],\n",
      "  \"split\": [\n",
      "    {\n",
      "      \"used_in\": \"Attachments\",\n",
      "      \"type\": \"api\",\n",
      "      \"docstring\": \"Process all input files through universal pipeline with split support.\",\n",
      "      \"source_file\": \"/home/maxime/Projects/attachments/src/attachments/highest_level_api.py\",\n",
      "      \"source_line\": 145\n",
      "    },\n",
      "    {\n",
      "      \"used_in\": \"processor.webpage_to_llm\",\n",
      "      \"type\": \"processor\",\n",
      "      \"docstring\": \"\\n    Process web pages for LLM consumption.\\n    \\n    Supports DSL commands:\\n    - format: plain, markdown (default), code for different text representations\\n    - select: CSS selector to extract specific elements (e.g., h1, .class, #id)\\n    - images: true (default), false to control screenshot capture\\n    - viewport: 1280x720 for browser viewport size\\n    - fullpage: true (default), false for viewport-only screenshots\\n    - wait: 2000 for page settling time in milliseconds\\n    - split: paragraphs, sentences, tokens, lines, custom for content splitting\\n    \\n    Text formats:\\n    - plain: Clean text extraction from page content\\n    - markdown: Structured markdown preserving some formatting (default)\\n    - code: Raw HTML structure for detailed analysis\\n    \\n    CSS Selection:\\n    - Supports any valid CSS selector\\n    - Examples: title, h1, .content, #main, p, article h2\\n    - Multiple selectors: .post-content, .article-body\\n    \\n    Screenshot capabilities:\\n    - Full page screenshots with JavaScript rendering\\n    - Customizable viewport sizes\\n    - Configurable wait times for dynamic content\\n    \\n    Split capabilities:\\n    - Split extracted content into chunks using various strategies\\n    - Works with all text formats and CSS selection\\n    \",\n",
      "      \"source_file\": \"/home/maxime/Projects/attachments/src/attachments/pipelines/webpage_processor.py\",\n",
      "      \"source_line\": 55\n",
      "    }\n",
      "  ],\n",
      "  \"summary\": [\n",
      "    {\n",
      "      \"used_in\": \"processor.csv_to_llm\",\n",
      "      \"type\": \"processor\",\n",
      "      \"docstring\": \"\\n    Process CSV files for LLM consumption.\\n    \\n    Supports DSL commands:\\n    - summary: true, false (default: false) - Include summary statistics\\n    - head: true, false (default: false) - Include data preview\\n    - format: plain, markdown (default), csv for different text representations\\n    - limit: N for row limiting\\n    \\n    Text formats:\\n    - plain: Clean text representation\\n    - markdown: Structured markdown with tables (default)\\n    - csv: Raw CSV format\\n    \",\n",
      "      \"source_file\": \"/home/maxime/Projects/attachments/src/attachments/pipelines/csv_processor.py\",\n",
      "      \"source_line\": 32\n",
      "    }\n",
      "  ],\n",
      "  \"head\": [\n",
      "    {\n",
      "      \"used_in\": \"processor.csv_to_llm\",\n",
      "      \"type\": \"processor\",\n",
      "      \"docstring\": \"\\n    Process CSV files for LLM consumption.\\n    \\n    Supports DSL commands:\\n    - summary: true, false (default: false) - Include summary statistics\\n    - head: true, false (default: false) - Include data preview\\n    - format: plain, markdown (default), csv for different text representations\\n    - limit: N for row limiting\\n    \\n    Text formats:\\n    - plain: Clean text representation\\n    - markdown: Structured markdown with tables (default)\\n    - csv: Raw CSV format\\n    \",\n",
      "      \"source_file\": \"/home/maxime/Projects/attachments/src/attachments/pipelines/csv_processor.py\",\n",
      "      \"source_line\": 32\n",
      "    }\n",
      "  ]\n",
      "}\n"
     ]
    }
   ],
   "source": [
    "from attachments import get_dsl_info\n",
    "import json\n",
    "\n",
    "dsl_data = get_dsl_info()\n",
    "print(json.dumps(dsl_data, indent=2))"
   ]
  },
  {
   "cell_type": "code",
   "execution_count": null,
   "id": "7d482d52",
   "metadata": {},
   "outputs": [],
   "source": []
  }
 ],
 "metadata": {
  "jupytext": {
   "cell_metadata_filter": "-all",
   "main_language": "python",
   "notebook_metadata_filter": "-all"
  },
  "kernelspec": {
   "display_name": ".venv",
   "language": "python",
   "name": "python3"
  },
  "language_info": {
   "codemirror_mode": {
    "name": "ipython",
    "version": 3
   },
   "file_extension": ".py",
   "mimetype": "text/x-python",
   "name": "python",
   "nbconvert_exporter": "python",
   "pygments_lexer": "ipython3",
   "version": "3.11.11"
  }
 },
 "nbformat": 4,
 "nbformat_minor": 5
}
